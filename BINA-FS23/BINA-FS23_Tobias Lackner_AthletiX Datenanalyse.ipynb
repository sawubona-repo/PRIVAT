{
 "cells": [
  {
   "cell_type": "markdown",
   "metadata": {},
   "source": [
    "MSc Wirtschaftsinformatik  \n",
    "Business Intelligence & Analytics  \n",
    "\n",
    "**Präferenzen des Kundensegments für Fotoprodukte:Eine analytische Perspektive** \n",
    "\n",
    "Modulabschlussarbeit \n",
    "\n",
    "Eingereicht am 16. Mai 2023 von \n",
    "\n",
    "Lackner, Tobias, Junior Low Code Engineer<br> \n",
    "Hauptstrasse 52, 6045 Meggen, +41 79 461 80 77, tobias.lackner@stud.hslu.ch \n",
    "<br>\n",
    "<br>\n",
    "<br>\n",
    "\n",
    "**Erklärung** \n",
    "\n",
    "Ich erkläre hiermit, dass ich die vorliegende Arbeit resp. die von mir ausgewiesene Leistung selbständig, ohne Mithilfe Dritter und nur unter Ausnützung der angegebenen Quellen verfasst resp. Erbracht habe. \n",
    "\n",
    " \n",
    "\n",
    "Ort, Datum:\t\tMeggen, 16. Mai 2023 \n",
    "\n",
    " \n",
    "\n",
    "Unterschrift:\t\tTobias Lackner "
   ]
  },
  {
   "cell_type": "markdown",
   "metadata": {},
   "source": [
    "# Management Summary"
   ]
  },
  {
   "cell_type": "markdown",
   "metadata": {},
   "source": [
    "athletix.ch ist eine als Verein organisierte Fotoagentur mit dem Schwerpunkt Schweizer Leichtathletik. Das Angebot beschränkt sich aber nicht nur auf die Leichtathletik, sondern umfasst auch andere Sportarten wie Track Cycling, Volleyball und Parasport. Nach der Gründung im Jahr 2008 wurde der Verein im Oktober 2022 durch die beiden bisherigen Fotografen Tobias Lackner und Ulf Schiller übernommen. Der neue Vorstand ist bestrebt die Agentur weiter zu professionalisieren und hat dazu auch schon konkrete Ideen wie man die Agentur weiterentwickeln kann. \n",
    "\n",
    "In einem ersten Schritt wurden die initial vereinbarten Ziele zusammen mit athletix.ch geprüft. Dabei stellte sich heraus, dass die Ziele angepasst werden müssen um eine optimale Datengrundlage für die strategischen Entscheide von athletix.ch zu bieten. \n",
    "\n",
    "Folgende Ziele wurden definiert: \n",
    "\n",
    "* Datenexport aus dem Tool erarbeiten \n",
    "\n",
    "* Auswertung muss jährlich wiederholt werden können \n",
    "\n",
    "* Verwendung von Cloud Lösungen, wenn möglich vermeiden (Personendaten) \n",
    "\n",
    "* Finanziell nicht relevante Datensätze entfernen \n",
    "\n",
    "* Umsatz pro Person \n",
    "\n",
    "* Identifikation von Top Kunden \n",
    "\n",
    "* Umsatz pro Produktkategorie \n",
    "\n",
    "* Identifikation von Top Kunden pro Kategorie \n",
    "\n",
    "* Auswertung Privatkunden mit mehr als 120 CHF Umsatz \n",
    "\n",
    "* Empfehlungen aufgrund der Auswertungen \n",
    "\n",
    "Alle definierten Ziele konnten erreicht werden und wurden innerhalb der vereinbarten Frist dem Auftraggeber präsentiert. Hervorzuheben ist, dass durch die Verwendung von Anaconda auch der Verzicht auf eine Cloud-Lösung realisiert wurde, wodurch Datenschutz- und Sicherheitsaspekte gewahrt wurden. \n",
    "\n",
    "Im vorliegenden Dokument finden sich weitere Empfehlungen für das weitere Vorgehen. Ein wichtiger nächster Schritt besteht darin, bei den Top Business Kunden zu identifizieren, welche Athletenbilder erworben wurden. Damit man zukünftig darauf achten kann, dass wenn möglich immer Bilder von diesen Personen im Angebot sind. \n",
    "\n",
    "Eine Mögliche Erweiterung der Auswertung wäre, den Umsatz pro Veranstaltung zu ermitteln, was einen Vergleich mit früheren Jahren ermöglichen würde. "
   ]
  },
  {
   "cell_type": "markdown",
   "metadata": {},
   "source": [
    "# Einleitung"
   ]
  },
  {
   "cell_type": "markdown",
   "metadata": {},
   "source": [
    "athletix.ch ist die führende Fotoagentur für Leichtathletik Bilder in der Schweiz und ist offizieller Fotopartner von Swiss Athletics (Nationaler Leichtathletikverband). Infolge einer Nachfolgeregelung wurde die Agentur im Oktober 2022 in neue Hände übergeben. Die Agentur verkauft Bilder an diverse Kunden: Athleten/Athletinnen, Privatpersonen, Medien, Sponsoren, Verbände, etc. \n",
    "\n",
    "Um sicherzustellen, dass die Fotoagentur auch in Zukunft konkurrenzfähig bleibt und sich in einem wettbewerbsintensiven Markt behaupten kann, ist es von entscheidender Bedeutung, die strategische Ausrichtung auf der Grundlage einer gründlichen Analyse der bestehenden Geschäftstätigkeit festzulegen. In diesem Zusammenhang ist es erforderlich, die Verkäufe, die über den Webshop von athletix.ch generiert werden, mit dieser Arbeit zu analysieren und zu überprüfen. \n",
    "\n",
    "Der Auftraggeber möchte festhalten, dass diese Arbeit vertraulich ist und sowohl finanzielle Daten von athletix.ch als auch Personendaten enthält."
   ]
  },
  {
   "cell_type": "markdown",
   "metadata": {},
   "source": [
    "# Vorstellung athletix.ch "
   ]
  },
  {
   "cell_type": "markdown",
   "metadata": {},
   "source": [
    "Die Fotoagentur athletix.ch hat sich seit der Gründung im Sommer 2008 zur grössten und wichtigsten Fotoagentur der Schweizer Leichtathletikszene entwickelt und ist der offizielle Fotopartner von Swiss Athletics (Schweizer Leichtathletikverband). Neben namhaften Partner unter anderem die UBS versorgt die Agentur auch diverse Schweizer Topathletinnen und Athleten (Mujinga Kambundji, Jason Joseph, Salome Lang, usw.) mit Bildern (athletix.ch, kein Datum). \n",
    "\n",
    "Die Agentur ist dieses Jahr an allen internationalen Grossanlässen (Hallen Europameisterschaft, U23 Europameisterschaft, U20 Europameisterschaft und der Weltmeisterschaft) und plant im kommenden Jahr mit zwei Fotografen an den Olympischen Spiele die Leichtathletik Wettkämpfe für die Kunden der Agentur einzufangen. \n",
    "\n",
    "Durch den kontinuierlichen Professionalisierungsprozess der Agentur finden sich mittlerweile auch Bilder von Track Cycling, Volleyball und Parasport auf der Plattform. Die Fotoagentur ist als Verein organisiert und hat ihren Sitz im Haus des Sports in Ittigen, Bern. Derzeit verfügt athletix.ch über 5 aktive Fotografen, welche regelmässig Bilder auf der Plattform veröffentlichen. "
   ]
  },
  {
   "cell_type": "markdown",
   "metadata": {},
   "source": [
    "# IST-Situation"
   ]
  },
  {
   "cell_type": "markdown",
   "metadata": {},
   "source": [
    "Die beiden Gründer von athletix.ch Florian Grossniklaus und Martin Schmocker haben sich im letzten Jahr entschieden, sich zukünftig auf Beruf und Familie zu fokussieren und die Leitung der Fotoagentur abzugeben. Zukünftig wird die Agentur von den beiden langjährigen Fotografen Ulf Schiller und Tobias Lackner verantwortet und weiterentwickelt. \n",
    "\n",
    "Aktuell gibt es in der Schweiz lediglich zwei grosse Fotoagenturen im Bereich der Sportfotografie, Keystone-SDA und freshfocus. Diese beiden Agenturen decken sämtliche wichtigen Sportveranstaltungen ab und haben teilweise sogar den Auftrag der jeweiligen Liga, die Spiele fotografisch festzuhalten. Der grösste Vorteil dieser beiden Agenturen im Vergleich zu anderen liegt darin, dass ihre Bilderdatenbanken direkt mit den grossen Medienhäusern verbunden sind. Dies bedeutet, dass bei einer Bildsuche durch eine Redakteurin/einen Redakteur nicht nur Archivbilder, sondern auch direkt Bilder von Keystone-SDA und/oder freshfocus angezeigt werden. Für kleinere Agenturen wie beispielsweise athletix.ch ist eine solche Anbindung nicht realisierbar, da sämtliche Kosten von der Agentur selbst übernommen werden müssten. Um dennoch Bilder anbieten zu können, bleibt lediglich der Weg über internationale Fotoplattformen wie beispielsweise IMAGO, welche ebenfalls direkt an die grossen Medienhäuser angeschlossen ist. IMAGO als Dienstleister behält aber 50 % des Erlöses für sich ​(IMAGO, kein Datum)​. Diese Einbusse muss aber in Kauf genommen werden, da man sonst keine Bilder an die grossen Medienhäuser verkaufen kann. \n",
    "\n",
    "Der Grundgedanke von athletix.ch ist, dass Sportler und Sportlerinnen, professionelle Bilder zu einem angemessenen Preis beziehen können. Im Webshop gibt es unterschiedliche Preise für die folgenden Kategorien: Private, Clubs, Media und Commercial. Zudem gibt es auch die Möglichkeit ein Abo abzuschliessen und für einen fixen Betrag unbeschränkt Bilder herunterzuladen. \n",
    "\n",
    "Aktuell ist es so, dass bei den Verbänden und Clubs noch grosses Potenzial vorhanden ist, da diese nicht auf die Dienste von freshfocus oder Keystone-SDA zurückgreifen. \n",
    "\n",
    "Früher war es noch so, dass die grösseren Medienhäuser eigene Fotografen an die Events geschickt haben, um einzigartige Bilder zu haben. Um diese Kosten zu optimieren, kaufen die Redaktionen heute immer mehr Bilder über internationale Fotoplattformen, um möglichst wenig zu bezahlen. Das führt dazu, dass die Bildpreise immer weiter sinken und die Erträge immer kleiner werden. \n",
    "\n",
    "Zudem verbessern die grossen Agenturen ihren Workflow immer mehr und werden so immer schneller. Getty Images benötigte 2016 an den Olympischen Spielen in Rio 120 Sekunden bis der Kunde das Bild in der Datenbank kaufen konnte ​(Zhang, 2016)​. \n",
    "\n",
    "An den Olympischen Winterspiel 2022 in Beijing konnte Getty durch einen optimierten Workflow, die Bilder schon 30 Sekunden nach dem der Fotograf auf den Auslöser gedrückt hat in der Datenbank veröffentlichen ​(Schneider, 2022)​. \n",
    "\n",
    "> *«Heutzutage bedeutet der Faktor \"Zeit\" ganz einfach, dass Du Bilder innerhalb von zwei Minuten nach einem wichtigen Ereignis (Tor, Zieleinlauf...) verschickt haben musst. In den ersten Minuten werden etwa 80% des Geschäfts gemacht. Der Zeitfaktor hat aber auch Konsequenzen für jeden einzelnen Fotografen. Der Stresslevel ist deutlich erhöht, das Equipment wird teurer und die Bezahlung entwickelt sich deutlich negativ. All das sind Folgen der Digitalisierung.» Axel Kohring, Sportfotograf und Geschäftsführer der Pressefotoagentur \"Beautiful Sports\" (persönliche Kommunikation, 21. November 2022)* \n",
    "\n",
    " \n",
    "\n",
    "Aufgrund begrenzter Ressourcen ist es athletix.ch nicht möglich, die Bilder in kürzester Zeit zu liefern, weshalb andere Zielgruppen angesprochen werden müssen. Derzeit konzentriert sich die Fotoagentur insbesondere auf den Schweizer Leichtathletik Verband und grosse Sponsoren der Schweizer Leichtathletik. Hierbei kann athletix.ch durch eine breite Abdeckung der Schweizer Leichtathletik-Events sowie eine professionelle Nähe zu den Schweizer Athletinnen und Athleten punkten, was teilweise einzigartige Bilder ermöglicht. \n",
    "\n",
    "Durch eine gründliche Überprüfung der bestehenden Geschäftstätigkeit kann athletix.ch neue Möglichkeiten zum Wachstum identifizieren. Dies ermöglicht es die Wettbewerbsfähigkeit zu stärken, den Kundenstamm zu erweitern und zukünftig im Markt erfolgreich zu sein. Es ist wichtig, dass athletix.ch proaktiv auf die Anforderungen des Marktes reagiert und sich kontinuierlich an die sich verändernden Bedürfnisse der Kunden anpasst, um langfristig erfolgreich zu sein."
   ]
  },
  {
   "cell_type": "markdown",
   "metadata": {},
   "source": [
    "# Defining objectives and information needs"
   ]
  },
  {
   "cell_type": "markdown",
   "metadata": {},
   "source": [
    "In diesem Schritt geht es darum, die strategischen Ziele zu definieren und den Informationsbedarf auf Grundlage dieser Ziele zu ermitteln. Es ist wichtig, die verschiedenen Zielgruppen zu identifizieren, die diese Informationen benötigen, wie das Führungsteam für strategische Entscheidungen oder Geschäftsbereiche und Manager für die Umsetzung der Ziele. Jede Zielgruppe hat unterschiedliche Informationsbedürfnisse, selbst in Bezug auf dasselbe strategische Ziel. Daher ist es wichtig, zu klären, wer genau welche Informationen benötigt. \n",
    "\n",
    "Durch die Durchführung dieses Schritts wird sichergestellt, dass der Informationsbedarf klar definiert ist und die richtigen Fragen gestellt werden, um die strategischen Ziele zu unterstützen und fundierte Entscheidungen treffen zu können ​(Marr, 2020)​. \n",
    "\n",
    "In Zusammenarbeit mit athletix.ch wurden die festgelegten Ziele überprüft und dabei wurde festgestellt, dass die daraus resultierenden Informationen nicht als Grundlage für strategische Entscheidungen taugen. Daher wurden folgende Ziele definiert: \n",
    "\n",
    "**Datenexport aus dem Tool erarbeiten**<br>\n",
    "Zurzeit ist bei athletix.ch nur wenig Know How vorhanden, was die Webshop Lösung bietet, daher muss zuerst erarbeitet werden wie und in welchem Format die Daten von den Verkäufen aus dem Tool exportiert werden können. \n",
    "\n",
    "**Auswertung muss jährlich wiederholt werden können**<br>\n",
    "Die Auswertung in Folge der Arbeit soll sich auf das Jahr 2022 beschränken. Es muss zukünftig, aber möglich sein, die Auswertung jährlich durchzuführen. \n",
    "\n",
    "**Verwendung von Cloud Lösungen, wenn möglich vermeiden (Personendaten)**<br>\n",
    "athletix.ch möchte aufgrund der Art der Daten – Personendaten – wenn möglich auf eine Cloud Lösung verzichten und die Auswertung nach der Installation einer Applikation lokal auf dem Computer ausführen. \n",
    "\n",
    "**Finanziell nicht relevante Datensätze entfernen**<br>\n",
    "Für die strategische Ausrichtung sind alle Datensätze, die finanziell nicht relevant sind zu vernachlässigen, da diese Datensätze entweder kostenlose Downloads mit Wasserzeichen sind oder durch spezifische Verträge vergütet werden. \n",
    "\n",
    "**Umsatz pro Person**<br>\n",
    "Eine Auswertung soll aufzeigen, welche Personen welchen Umsatz verursacht hat. \n",
    "\n",
    "**Identifikation von Top Kunden**<br>\n",
    "Mithilfe einer Auswertung sollen die Umsatzstärksten Kunden identifiziert werden. \n",
    "\n",
    "**Umsatz pro Produktkategorie**<br>\n",
    "Welche Produktkategorie generiert wie viel Umsatz? \n",
    "\n",
    "**Identifikation von Top Kunden pro Produktkategorie**<br>\n",
    "Wer sind die Top Kunden in der jeweiligen Produktkategorie? \n",
    "\n",
    "**Auswertung Privatkunden mit mehr als 120 CHF Umsatz**<br>\n",
    "athletix.ch lanciert in diesem Jahr ein Abo für Athletinnen und Athleten und erachtet den Preis von 120 CHF als angemessen. Mithilfe einer Auswertung soll geprüft werden wie viele Privat Kunden diesen Wert überschreiten. \n",
    "\n",
    "**Empfehlungen aufgrund der Auswertungen**<br>\n",
    "Nach dem Erstellen und Ausführen der Auswertungen sollen konkrete Empfehlungen vermerkt werden. "
   ]
  },
  {
   "cell_type": "markdown",
   "metadata": {},
   "source": [
    "# Collect data"
   ]
  },
  {
   "cell_type": "markdown",
   "metadata": {},
   "source": [
    "Zusammenfassend geht es in diesem Schritt um das Sammeln und Organisieren der richtigen Daten, um den identifizierten Informationsbedarf aus Schritt 1 zu decken. Es besteht die Möglichkeit, entweder zu überprüfen, ob die benötigten Daten bereits intern in der Organisation vorhanden sind, oder den besten Weg zur Erfassung der Daten zu ermitteln. \n",
    "\n",
    "Es wird empfohlen, interne Daten mit relevanten externen Daten zu ergänzen, da viele Organisationen häufig zu stark auf interne Daten vertrauen. Externe Daten können wertvolle Einblicke liefern und die Qualität der Analyse verbessern. \n",
    "\n",
    "Durch das sorgfältige Sammeln und Organisieren der richtigen Daten wird eine solide Grundlage für die Analyse und Interpretation geschaffen, um wertvolle Erkenntnisse zu gewinnen und fundierte Entscheidungen treffen zu können ​(Marr, 2020)​. \n",
    "\n",
    "Nach eingehender Prüfung der eingesetzten Lösung und nach Rücksprache mit dem Entwickler ist ein CSV Export die einzige Möglichkeit Daten zu exportieren, was unbefriedigend ist, aber das Tool ist nicht für Analysezwecke optimiert und daher müssen sämtliche Analysen ausserhalb der Applikation gemacht werden. Es ist zudem auch nicht Möglich eine vollständige Tabelle zu exportieren, die Details der Verkäufe und die Personendetails müssen in einem separaten Export gemacht werden.\n",
    "\n",
    "Die Verwendung von fremden Daten kam trotz intensiver Recherche und diversen Anfragen nicht zustande. Da es keine frei verfügbaren Daten gibt und niemand bereit ist, auch nicht Partner von athletix.ch, seine Daten zur Verfügung zu stellen."
   ]
  },
  {
   "cell_type": "markdown",
   "metadata": {},
   "source": [
    "## Imports"
   ]
  },
  {
   "cell_type": "code",
   "execution_count": 1,
   "metadata": {
    "ExecuteTime": {
     "end_time": "2023-06-16T17:45:13.724286Z",
     "start_time": "2023-06-16T17:45:12.195338Z"
    }
   },
   "outputs": [],
   "source": [
    "import pandas as pd\n",
    "import matplotlib\n",
    "import matplotlib.pyplot as plt"
   ]
  },
  {
   "cell_type": "code",
   "execution_count": 2,
   "metadata": {
    "ExecuteTime": {
     "end_time": "2023-06-16T17:45:13.740286Z",
     "start_time": "2023-06-16T17:45:13.726286Z"
    }
   },
   "outputs": [],
   "source": [
    "#Function to display Bold text in a print output\n",
    "\n",
    "from IPython.display import Markdown, display\n",
    "def printmd(string):\n",
    "    display(Markdown(string))"
   ]
  },
  {
   "cell_type": "markdown",
   "metadata": {},
   "source": [
    "# Analyse data"
   ]
  },
  {
   "cell_type": "markdown",
   "metadata": {},
   "source": [
    "Zusammenfassend geht es in diesem Schritt darum, die gesammelten Daten in Erkenntnisse umzuwandeln. Dafür werden verschiedene Analysetechniken eingesetzt, die helfen, Informationen aus den Daten zu extrahieren. \n",
    "\n",
    "Durch die Anwendung geeigneter Analysetechniken können Unternehmen wertvolle Erkenntnisse gewinnen und fundierte Entscheidungen treffen, um ihre Geschäftsaktivitäten zu verbessern und Wettbewerbsvorteile zu erzielen ​(Marr, 2020)​. "
   ]
  },
  {
   "cell_type": "markdown",
   "metadata": {},
   "source": [
    "## Functions"
   ]
  },
  {
   "cell_type": "code",
   "execution_count": 3,
   "metadata": {
    "ExecuteTime": {
     "end_time": "2023-06-16T17:45:13.756285Z",
     "start_time": "2023-06-16T17:45:13.743287Z"
    },
    "code_folding": []
   },
   "outputs": [],
   "source": [
    "def get_data(df, category):\n",
    "    \"\"\"\n",
    "    get_data filters out all entries of a product category and returns them as dataframe.\n",
    "\n",
    "    :param df: dataframe of all purchases\n",
    "    :param category: Product category\n",
    "    :return: dataframe with all purchases of the selected category \n",
    "    \"\"\" \n",
    "        \n",
    "    dataframe = df.copy()\n",
    "    df_products = dataframe[dataframe['PRODUCTS'].str.startswith(category, na=False)]\n",
    "    df_products = df_products.groupby(['First Name','Last Name'])['Price'].sum().reset_index()\n",
    "    df_products = df_products.sort_values(by='Price', ascending=False)\n",
    "    \n",
    "    return df_products"
   ]
  },
  {
   "cell_type": "code",
   "execution_count": 4,
   "metadata": {
    "ExecuteTime": {
     "end_time": "2023-06-16T17:45:13.772284Z",
     "start_time": "2023-06-16T17:45:13.759285Z"
    },
    "code_folding": []
   },
   "outputs": [],
   "source": [
    "def get_price_sum(df, category):\n",
    "    \"\"\"\n",
    "    get_price_sum calculates the cost sum of all purchased images of a product category.\n",
    "\n",
    "    :param df: dataframe of all purchases\n",
    "    :param category: Product category\n",
    "    :return: sum of all purchases of the product category\n",
    "    \"\"\" \n",
    "    \n",
    "    dataframe = df.copy()\n",
    "    df_products = dataframe[dataframe['PRODUCTS'].str.startswith(category, na=False)]\n",
    "    sum_category = df_products['Price'].sum()\n",
    "    \n",
    "    return sum_category"
   ]
  },
  {
   "cell_type": "code",
   "execution_count": 5,
   "metadata": {
    "ExecuteTime": {
     "end_time": "2023-06-16T17:45:13.787284Z",
     "start_time": "2023-06-16T17:45:13.774284Z"
    },
    "code_folding": [
     0
    ]
   },
   "outputs": [],
   "source": [
    "def plot_sum_each_class(df):\n",
    "    \"\"\"\n",
    "    plot_sum_each_class plots a bar chart of the purchase totals per category.\n",
    "\n",
    "    :param df: dataframe of all purchases\n",
    "    \"\"\" \n",
    "    \n",
    "    base_data = df.copy()\n",
    "    sum_private = get_price_sum(base_data, \"(1)private\")\n",
    "    sum_business = get_price_sum(base_data, \"(1)business\")\n",
    "    sum_media = get_price_sum(base_data, \"(1)media\")\n",
    "    sum_vereine = get_price_sum(base_data, \"(1)vereine\")\n",
    "    sum_list = {'private':sum_private, 'business':sum_business, 'media':sum_media, 'vereine':sum_vereine}\n",
    "    names = list(sum_list.keys())\n",
    "    values = list(sum_list.values())\n",
    "\n",
    "    plt.bar(range(len(sum_list)), values, tick_label=names)\n",
    "    plt.show() "
   ]
  },
  {
   "cell_type": "code",
   "execution_count": 6,
   "metadata": {
    "ExecuteTime": {
     "end_time": "2023-06-16T17:45:13.803283Z",
     "start_time": "2023-06-16T17:45:13.789285Z"
    },
    "code_folding": [
     0
    ],
    "scrolled": true
   },
   "outputs": [],
   "source": [
    "# Kategorien: \"(1)private\" , \"(1)business\" , \"(1)media\" , \"(1)vereine\"\n",
    "def display_productcategory_info(category):\n",
    "    \"\"\"\n",
    "    display_productcategory_info shows the 10 customers with the highest purchases and \n",
    "    the sum of all sales of a product category.\n",
    "\n",
    "    :param category: Product category\n",
    "    \"\"\" \n",
    "    \n",
    "    df_new = get_data(df_products_reduced, category)\n",
    "    sum_earnings_category = get_price_sum(df_products_reduced, category)\n",
    "    printmd(\"**Kategorie:**\" + category)\n",
    "    print(\"---------------------------------\")\n",
    "    print(df_new.head(10))\n",
    "    print(\"---------------------------------\")\n",
    "    print(\"Summe aller Verkäufe der Kategorie\" + category + \":\", sum_earnings_category , \" CHF\")"
   ]
  },
  {
   "cell_type": "code",
   "execution_count": 7,
   "metadata": {
    "ExecuteTime": {
     "end_time": "2023-06-16T17:45:13.818283Z",
     "start_time": "2023-06-16T17:45:13.805285Z"
    },
    "code_folding": []
   },
   "outputs": [],
   "source": [
    "def get_infos_private_above_120():\n",
    "    \"\"\"\n",
    "    get_infos_private_above_120 filters all customers who have purchased a product value above 120 CHF \n",
    "    in the category \"private\". In addition, it is calculated what percentage these customers are of all in the category.\n",
    "    \"\"\" \n",
    "    \n",
    "    df_private = get_data(df_products_reduced, \"(1)private\")\n",
    "    df_above_120 = df_private[df_private[\"Price\"] > 120]\n",
    "    sum_customers_above_120 = df_above_120.shape[0]\n",
    "    sum_customers_total = df_private.shape[0]\n",
    "    prozent = (sum_customers_above_120 * 100)/sum_customers_total\n",
    "\n",
    "    printmd(\"**Kunden welche Bilder im Wert von über 120 CHF bezogen haben:**\")\n",
    "    print(\"---------------------------------\")\n",
    "    print(df_above_120)\n",
    "    print(\"---------------------------------\")\n",
    "    print(\"Von total\" , sum_customers_total , \"Kunden, haben\" , sum_customers_above_120 , \"Bilder im Wert von über 120 Chf bezogen.\")\n",
    "    print(\"Somit haben\" ,prozent , \"% einen Bezugswert von mehr als 120 Chf.\")"
   ]
  },
  {
   "cell_type": "code",
   "execution_count": 8,
   "metadata": {
    "ExecuteTime": {
     "end_time": "2023-06-16T17:45:13.833283Z",
     "start_time": "2023-06-16T17:45:13.822283Z"
    },
    "code_folding": [
     0
    ]
   },
   "outputs": [],
   "source": [
    "def get_price_sum_quality(df, quality_category):\n",
    "    \"\"\"\n",
    "    get_price_sum_quality calculates the cost sum of all purchased images of a product quality_category.\n",
    "\n",
    "    :param df: dataframe of all purchases\n",
    "    :param quality_category: Product quality_category\n",
    "    :return: sum of all purchases of the product quality_category\n",
    "    \"\"\" \n",
    "    \n",
    "    dataframe = df.copy()\n",
    "    df_products = dataframe[dataframe['PRODUCTS_1'] == quality_category]\n",
    "    sum_category = df_products['Price'].sum()\n",
    "    \n",
    "    return sum_category"
   ]
  },
  {
   "cell_type": "code",
   "execution_count": 9,
   "metadata": {
    "ExecuteTime": {
     "end_time": "2023-06-16T17:45:13.849281Z",
     "start_time": "2023-06-16T17:45:13.836282Z"
    },
    "code_folding": [
     0
    ]
   },
   "outputs": [],
   "source": [
    "def plot_sum_each_qualityclass(df):\n",
    "    \"\"\"\n",
    "    plot_sum_each_qualityclass plots a bar chart of the purchase totals per quality_category.\n",
    "\n",
    "    :param df: dataframe of all purchases\n",
    "    \"\"\" \n",
    "    \n",
    "    base_data = df.copy()\n",
    "    sum_high_res = get_price_sum_quality(base_data, \"(1)High-Res\")\n",
    "    sum_social_media = get_price_sum_quality(base_data, \"(1)SocialMedia\")\n",
    "    sum_list = {'High-Res':sum_high_res, 'SocialMedia':sum_social_media}\n",
    "    names = list(sum_list.keys())\n",
    "    values = list(sum_list.values())\n",
    "\n",
    "    plt.bar(range(len(sum_list)), values, tick_label=names)\n",
    "    plt.show() "
   ]
  },
  {
   "cell_type": "code",
   "execution_count": 10,
   "metadata": {
    "ExecuteTime": {
     "end_time": "2023-06-16T17:45:13.864281Z",
     "start_time": "2023-06-16T17:45:13.851282Z"
    },
    "code_folding": [
     0
    ]
   },
   "outputs": [],
   "source": [
    "def count_each_qualityclass(df):\n",
    "    \"\"\"\n",
    "    count_each_qualityclass counts how many times a quality category appears in the dataframe.\n",
    "\n",
    "    :param df: dataframe of all purchases\n",
    "    \"\"\" \n",
    "    base_data = df.copy()\n",
    "    dups_color = base_data.pivot_table(columns=['PRODUCTS_1'], aggfunc='size')\n",
    "    print (dups_color)"
   ]
  },
  {
   "cell_type": "code",
   "execution_count": 11,
   "metadata": {
    "ExecuteTime": {
     "end_time": "2023-06-16T17:45:13.880280Z",
     "start_time": "2023-06-16T17:45:13.866281Z"
    },
    "code_folding": [
     0
    ]
   },
   "outputs": [],
   "source": [
    "def get_price_sum_info_quality_category(df, quality_category):\n",
    "    \"\"\"\n",
    "    get_price_sum_info_quality_category diplays the cost sum of all purchased images of a product quality_category.\n",
    "\n",
    "    :param df: dataframe of all purchases\n",
    "    :param quality_category: Product quality_category\n",
    "    \"\"\" \n",
    "    \n",
    "    base_data = df.copy()\n",
    "    sum_earnings_quality_category = get_price_sum_quality(base_data, quality_category)\n",
    "    printmd(\"**Kategorie:**\" + quality_category)\n",
    "    print(\"---------------------------------\")\n",
    "    print(\"Summe aller Verkäufe der Qualitäts-Kategorie \" + quality_category + \":\", sum_earnings_quality_category , \" CHF\")"
   ]
  },
  {
   "cell_type": "markdown",
   "metadata": {},
   "source": [
    "## Payment Amount per Person"
   ]
  },
  {
   "cell_type": "markdown",
   "metadata": {},
   "source": [
    "### Collect data - Data preprocessing"
   ]
  },
  {
   "cell_type": "code",
   "execution_count": 12,
   "metadata": {
    "ExecuteTime": {
     "end_time": "2023-06-16T17:45:14.052274Z",
     "start_time": "2023-06-16T17:45:13.882281Z"
    },
    "code_folding": [],
    "scrolled": true
   },
   "outputs": [
    {
     "data": {
      "text/html": [
       "<div>\n",
       "<style scoped>\n",
       "    .dataframe tbody tr th:only-of-type {\n",
       "        vertical-align: middle;\n",
       "    }\n",
       "\n",
       "    .dataframe tbody tr th {\n",
       "        vertical-align: top;\n",
       "    }\n",
       "\n",
       "    .dataframe thead th {\n",
       "        text-align: right;\n",
       "    }\n",
       "</style>\n",
       "<table border=\"1\" class=\"dataframe\">\n",
       "  <thead>\n",
       "    <tr style=\"text-align: right;\">\n",
       "      <th></th>\n",
       "      <th>OrderID</th>\n",
       "      <th>Date</th>\n",
       "      <th>Email</th>\n",
       "      <th>FirstName</th>\n",
       "      <th>LastName</th>\n",
       "      <th>Address</th>\n",
       "      <th>Address2</th>\n",
       "      <th>City</th>\n",
       "      <th>State</th>\n",
       "      <th>Zip</th>\n",
       "      <th>...</th>\n",
       "      <th>Discount</th>\n",
       "      <th>SubTotal</th>\n",
       "      <th>CouponName</th>\n",
       "      <th>TaxableAmount</th>\n",
       "      <th>PaymentAmount</th>\n",
       "      <th>PaymentDate</th>\n",
       "      <th>Credit</th>\n",
       "      <th>EarlyBirdDiscount</th>\n",
       "      <th>GalleryName</th>\n",
       "      <th>Column1</th>\n",
       "    </tr>\n",
       "  </thead>\n",
       "  <tbody>\n",
       "    <tr>\n",
       "      <th>0</th>\n",
       "      <td>18378.0</td>\n",
       "      <td>01.01.202218:46:16</td>\n",
       "      <td>z.giger@bluewin.ch</td>\n",
       "      <td>Yasmin</td>\n",
       "      <td>Giger</td>\n",
       "      <td>Bahnhofstrasse1</td>\n",
       "      <td>NaN</td>\n",
       "      <td>Romanshorn</td>\n",
       "      <td>NaN</td>\n",
       "      <td>8590</td>\n",
       "      <td>...</td>\n",
       "      <td>0.0</td>\n",
       "      <td>0.0</td>\n",
       "      <td>NaN</td>\n",
       "      <td>0.0</td>\n",
       "      <td>0.0</td>\n",
       "      <td>01.01.2022</td>\n",
       "      <td>0.0</td>\n",
       "      <td>0.0</td>\n",
       "      <td>GigerYasmin</td>\n",
       "      <td>NaN</td>\n",
       "    </tr>\n",
       "    <tr>\n",
       "      <th>1</th>\n",
       "      <td>18379.0</td>\n",
       "      <td>03.01.202213:46:58</td>\n",
       "      <td>m.zimmermann761@gmail.com</td>\n",
       "      <td>Manfred</td>\n",
       "      <td>Zimmermann</td>\n",
       "      <td>Mittebrühlstr.24</td>\n",
       "      <td>NaN</td>\n",
       "      <td>Bubendorf</td>\n",
       "      <td>NaN</td>\n",
       "      <td>4416</td>\n",
       "      <td>...</td>\n",
       "      <td>0.0</td>\n",
       "      <td>1200.0</td>\n",
       "      <td>NaN</td>\n",
       "      <td>0.0</td>\n",
       "      <td>1200.0</td>\n",
       "      <td>03.01.2022</td>\n",
       "      <td>0.0</td>\n",
       "      <td>0.0</td>\n",
       "      <td>Staffel-SM,Hochdorf(12.09.2021)</td>\n",
       "      <td>NaN</td>\n",
       "    </tr>\n",
       "    <tr>\n",
       "      <th>2</th>\n",
       "      <td>18380.0</td>\n",
       "      <td>04.01.202212:10:12</td>\n",
       "      <td>beatfreihofer@swiss-athletics.ch</td>\n",
       "      <td>Beat</td>\n",
       "      <td>Freihofer</td>\n",
       "      <td>HausdesSports</td>\n",
       "      <td>NaN</td>\n",
       "      <td>Bern22</td>\n",
       "      <td>NaN</td>\n",
       "      <td>3000</td>\n",
       "      <td>...</td>\n",
       "      <td>0.0</td>\n",
       "      <td>0.0</td>\n",
       "      <td>NaN</td>\n",
       "      <td>0.0</td>\n",
       "      <td>0.0</td>\n",
       "      <td>04.01.2022</td>\n",
       "      <td>0.0</td>\n",
       "      <td>0.0</td>\n",
       "      <td>U20-Europameisterschaften,Tallinn(15.-18.07.2021)</td>\n",
       "      <td>NaN</td>\n",
       "    </tr>\n",
       "    <tr>\n",
       "      <th>3</th>\n",
       "      <td>18381.0</td>\n",
       "      <td>05.01.202210:38:20</td>\n",
       "      <td>peterhaas@swiss-athletics.ch</td>\n",
       "      <td>Peter</td>\n",
       "      <td>Haas</td>\n",
       "      <td>Bergfeld11</td>\n",
       "      <td>NaN</td>\n",
       "      <td>Hettiswil</td>\n",
       "      <td>NaN</td>\n",
       "      <td>3325</td>\n",
       "      <td>...</td>\n",
       "      <td>0.0</td>\n",
       "      <td>0.0</td>\n",
       "      <td>NaN</td>\n",
       "      <td>0.0</td>\n",
       "      <td>0.0</td>\n",
       "      <td>05.01.2022</td>\n",
       "      <td>0.0</td>\n",
       "      <td>0.0</td>\n",
       "      <td>SwissAthleticsJubiläums-Night,Interlaken(13.11...</td>\n",
       "      <td>NaN</td>\n",
       "    </tr>\n",
       "    <tr>\n",
       "      <th>4</th>\n",
       "      <td>18382.0</td>\n",
       "      <td>06.01.202206:20:07</td>\n",
       "      <td>michelle.eigenmann@outlook.com</td>\n",
       "      <td>Michelle</td>\n",
       "      <td>Eigenmann</td>\n",
       "      <td>NaN</td>\n",
       "      <td>NaN</td>\n",
       "      <td>NaN</td>\n",
       "      <td>NaN</td>\n",
       "      <td>NaN</td>\n",
       "      <td>...</td>\n",
       "      <td>0.0</td>\n",
       "      <td>0.0</td>\n",
       "      <td>NaN</td>\n",
       "      <td>0.0</td>\n",
       "      <td>0.0</td>\n",
       "      <td>06.01.2022</td>\n",
       "      <td>0.0</td>\n",
       "      <td>0.0</td>\n",
       "      <td>MilleGruyèreRegionalfinalBE,Interlaken(27.08.2...</td>\n",
       "      <td>NaN</td>\n",
       "    </tr>\n",
       "    <tr>\n",
       "      <th>5</th>\n",
       "      <td>18383.0</td>\n",
       "      <td>06.01.202206:23:15</td>\n",
       "      <td>michelle.eigenmann@outlook.com</td>\n",
       "      <td>Michelle</td>\n",
       "      <td>Eigenmann</td>\n",
       "      <td>NaN</td>\n",
       "      <td>NaN</td>\n",
       "      <td>NaN</td>\n",
       "      <td>NaN</td>\n",
       "      <td>NaN</td>\n",
       "      <td>...</td>\n",
       "      <td>0.0</td>\n",
       "      <td>0.0</td>\n",
       "      <td>NaN</td>\n",
       "      <td>0.0</td>\n",
       "      <td>0.0</td>\n",
       "      <td>06.01.2022</td>\n",
       "      <td>0.0</td>\n",
       "      <td>0.0</td>\n",
       "      <td>MilleGruyèreSchweizerfinal,Appenzell(25.09.2021)</td>\n",
       "      <td>NaN</td>\n",
       "    </tr>\n",
       "    <tr>\n",
       "      <th>6</th>\n",
       "      <td>18384.0</td>\n",
       "      <td>06.01.202211:52:38</td>\n",
       "      <td>info@zugformation.ch</td>\n",
       "      <td>Brigitte</td>\n",
       "      <td>Staub</td>\n",
       "      <td>Guthirthof2</td>\n",
       "      <td>NaN</td>\n",
       "      <td>Zug</td>\n",
       "      <td>NaN</td>\n",
       "      <td>6300</td>\n",
       "      <td>...</td>\n",
       "      <td>0.0</td>\n",
       "      <td>500.0</td>\n",
       "      <td>NaN</td>\n",
       "      <td>0.0</td>\n",
       "      <td>500.0</td>\n",
       "      <td>06.01.2022</td>\n",
       "      <td>0.0</td>\n",
       "      <td>0.0</td>\n",
       "      <td>UBSKidsCupSchweizerfinal,Zürich(26.08.2017)</td>\n",
       "      <td>NaN</td>\n",
       "    </tr>\n",
       "    <tr>\n",
       "      <th>7</th>\n",
       "      <td>18385.0</td>\n",
       "      <td>06.01.202211:58:44</td>\n",
       "      <td>michelle.eigenmann@outlook.com</td>\n",
       "      <td>Michelle</td>\n",
       "      <td>Eigenmann</td>\n",
       "      <td>NaN</td>\n",
       "      <td>NaN</td>\n",
       "      <td>NaN</td>\n",
       "      <td>NaN</td>\n",
       "      <td>NaN</td>\n",
       "      <td>...</td>\n",
       "      <td>0.0</td>\n",
       "      <td>0.0</td>\n",
       "      <td>NaN</td>\n",
       "      <td>0.0</td>\n",
       "      <td>0.0</td>\n",
       "      <td>06.01.2022</td>\n",
       "      <td>0.0</td>\n",
       "      <td>0.0</td>\n",
       "      <td>SwissAthleticsSprintSchweizerfinal,Schaffhause...</td>\n",
       "      <td>NaN</td>\n",
       "    </tr>\n",
       "    <tr>\n",
       "      <th>8</th>\n",
       "      <td>18386.0</td>\n",
       "      <td>06.01.202217:09:47</td>\n",
       "      <td>beatfreihofer@swiss-athletics.ch</td>\n",
       "      <td>Beat</td>\n",
       "      <td>Freihofer</td>\n",
       "      <td>HausdesSports</td>\n",
       "      <td>NaN</td>\n",
       "      <td>Bern22</td>\n",
       "      <td>NaN</td>\n",
       "      <td>3000</td>\n",
       "      <td>...</td>\n",
       "      <td>0.0</td>\n",
       "      <td>0.0</td>\n",
       "      <td>NaN</td>\n",
       "      <td>0.0</td>\n",
       "      <td>0.0</td>\n",
       "      <td>06.01.2022</td>\n",
       "      <td>0.0</td>\n",
       "      <td>0.0</td>\n",
       "      <td>SwissAthleticsMarathon,Belp(03.04.2021)</td>\n",
       "      <td>NaN</td>\n",
       "    </tr>\n",
       "    <tr>\n",
       "      <th>9</th>\n",
       "      <td>18387.0</td>\n",
       "      <td>06.01.202217:13:37</td>\n",
       "      <td>beatfreihofer@swiss-athletics.ch</td>\n",
       "      <td>Beat</td>\n",
       "      <td>Freihofer</td>\n",
       "      <td>HausdesSports</td>\n",
       "      <td>NaN</td>\n",
       "      <td>Bern22</td>\n",
       "      <td>NaN</td>\n",
       "      <td>3000</td>\n",
       "      <td>...</td>\n",
       "      <td>0.0</td>\n",
       "      <td>0.0</td>\n",
       "      <td>NaN</td>\n",
       "      <td>0.0</td>\n",
       "      <td>0.0</td>\n",
       "      <td>06.01.2022</td>\n",
       "      <td>0.0</td>\n",
       "      <td>0.0</td>\n",
       "      <td>10'000m&amp;Steeple-SM,Uster(04.06.2021)</td>\n",
       "      <td>NaN</td>\n",
       "    </tr>\n",
       "    <tr>\n",
       "      <th>10</th>\n",
       "      <td>18388.0</td>\n",
       "      <td>07.01.202219:24:51</td>\n",
       "      <td>beatfreihofer@swiss-athletics.ch</td>\n",
       "      <td>Beat</td>\n",
       "      <td>Freihofer</td>\n",
       "      <td>HausdesSports</td>\n",
       "      <td>NaN</td>\n",
       "      <td>Bern22</td>\n",
       "      <td>NaN</td>\n",
       "      <td>3000</td>\n",
       "      <td>...</td>\n",
       "      <td>0.0</td>\n",
       "      <td>0.0</td>\n",
       "      <td>NaN</td>\n",
       "      <td>0.0</td>\n",
       "      <td>0.0</td>\n",
       "      <td>07.01.2022</td>\n",
       "      <td>0.0</td>\n",
       "      <td>0.0</td>\n",
       "      <td>Hallen-Europameisterschaften,Torun(05.-07.03.2...</td>\n",
       "      <td>NaN</td>\n",
       "    </tr>\n",
       "    <tr>\n",
       "      <th>11</th>\n",
       "      <td>18389.0</td>\n",
       "      <td>07.01.202219:27:43</td>\n",
       "      <td>info@stb-la.ch</td>\n",
       "      <td>Beatrice</td>\n",
       "      <td>Born</td>\n",
       "      <td>Thunstrasse107</td>\n",
       "      <td>NaN</td>\n",
       "      <td>Bern</td>\n",
       "      <td>NaN</td>\n",
       "      <td>3006</td>\n",
       "      <td>...</td>\n",
       "      <td>0.0</td>\n",
       "      <td>0.0</td>\n",
       "      <td>NaN</td>\n",
       "      <td>0.0</td>\n",
       "      <td>0.0</td>\n",
       "      <td>07.01.2022</td>\n",
       "      <td>0.0</td>\n",
       "      <td>0.0</td>\n",
       "      <td>UBSCross,Düdingen(11.01.2020)|LozärnerCross,Lu...</td>\n",
       "      <td>NaN</td>\n",
       "    </tr>\n",
       "    <tr>\n",
       "      <th>12</th>\n",
       "      <td>18390.0</td>\n",
       "      <td>07.01.202219:31:16</td>\n",
       "      <td>beatfreihofer@swiss-athletics.ch</td>\n",
       "      <td>Beat</td>\n",
       "      <td>Freihofer</td>\n",
       "      <td>HausdesSports</td>\n",
       "      <td>NaN</td>\n",
       "      <td>Bern22</td>\n",
       "      <td>NaN</td>\n",
       "      <td>3000</td>\n",
       "      <td>...</td>\n",
       "      <td>0.0</td>\n",
       "      <td>0.0</td>\n",
       "      <td>NaN</td>\n",
       "      <td>0.0</td>\n",
       "      <td>0.0</td>\n",
       "      <td>07.01.2022</td>\n",
       "      <td>0.0</td>\n",
       "      <td>0.0</td>\n",
       "      <td>Schweizermeisterschaften,Langenthal(25.-27.06....</td>\n",
       "      <td>NaN</td>\n",
       "    </tr>\n",
       "    <tr>\n",
       "      <th>13</th>\n",
       "      <td>18391.0</td>\n",
       "      <td>07.01.202219:34:53</td>\n",
       "      <td>beatfreihofer@swiss-athletics.ch</td>\n",
       "      <td>Beat</td>\n",
       "      <td>Freihofer</td>\n",
       "      <td>HausdesSports</td>\n",
       "      <td>NaN</td>\n",
       "      <td>Bern22</td>\n",
       "      <td>NaN</td>\n",
       "      <td>3000</td>\n",
       "      <td>...</td>\n",
       "      <td>0.0</td>\n",
       "      <td>0.0</td>\n",
       "      <td>NaN</td>\n",
       "      <td>0.0</td>\n",
       "      <td>0.0</td>\n",
       "      <td>07.01.2022</td>\n",
       "      <td>0.0</td>\n",
       "      <td>0.0</td>\n",
       "      <td>Schweizermeisterschaften,Langenthal(25.-27.06....</td>\n",
       "      <td>NaN</td>\n",
       "    </tr>\n",
       "    <tr>\n",
       "      <th>14</th>\n",
       "      <td>18392.0</td>\n",
       "      <td>07.01.202219:36:20</td>\n",
       "      <td>beatfreihofer@swiss-athletics.ch</td>\n",
       "      <td>Beat</td>\n",
       "      <td>Freihofer</td>\n",
       "      <td>HausdesSports</td>\n",
       "      <td>NaN</td>\n",
       "      <td>Bern22</td>\n",
       "      <td>NaN</td>\n",
       "      <td>3000</td>\n",
       "      <td>...</td>\n",
       "      <td>0.0</td>\n",
       "      <td>0.0</td>\n",
       "      <td>NaN</td>\n",
       "      <td>0.0</td>\n",
       "      <td>0.0</td>\n",
       "      <td>07.01.2022</td>\n",
       "      <td>0.0</td>\n",
       "      <td>0.0</td>\n",
       "      <td>Schweizermeisterschaften,Langenthal(25.-27.06....</td>\n",
       "      <td>NaN</td>\n",
       "    </tr>\n",
       "    <tr>\n",
       "      <th>15</th>\n",
       "      <td>18393.0</td>\n",
       "      <td>07.01.202219:43:06</td>\n",
       "      <td>beatfreihofer@swiss-athletics.ch</td>\n",
       "      <td>Beat</td>\n",
       "      <td>Freihofer</td>\n",
       "      <td>HausdesSports</td>\n",
       "      <td>NaN</td>\n",
       "      <td>Bern22</td>\n",
       "      <td>NaN</td>\n",
       "      <td>3000</td>\n",
       "      <td>...</td>\n",
       "      <td>0.0</td>\n",
       "      <td>0.0</td>\n",
       "      <td>NaN</td>\n",
       "      <td>0.0</td>\n",
       "      <td>0.0</td>\n",
       "      <td>07.01.2022</td>\n",
       "      <td>0.0</td>\n",
       "      <td>0.0</td>\n",
       "      <td>Hallen-Schweizermeisterschaften,Magglingen(20....</td>\n",
       "      <td>NaN</td>\n",
       "    </tr>\n",
       "    <tr>\n",
       "      <th>16</th>\n",
       "      <td>18394.0</td>\n",
       "      <td>08.01.202222:19:13</td>\n",
       "      <td>michelle.eigenmann@outlook.com</td>\n",
       "      <td>Michelle</td>\n",
       "      <td>Eigenmann</td>\n",
       "      <td>NaN</td>\n",
       "      <td>NaN</td>\n",
       "      <td>NaN</td>\n",
       "      <td>NaN</td>\n",
       "      <td>NaN</td>\n",
       "      <td>...</td>\n",
       "      <td>0.0</td>\n",
       "      <td>0.0</td>\n",
       "      <td>NaN</td>\n",
       "      <td>0.0</td>\n",
       "      <td>0.0</td>\n",
       "      <td>08.01.2022</td>\n",
       "      <td>0.0</td>\n",
       "      <td>0.0</td>\n",
       "      <td>HallenmeetingLABern&amp;SMMehrkampfHalle,Magglinge...</td>\n",
       "      <td>NaN</td>\n",
       "    </tr>\n",
       "    <tr>\n",
       "      <th>17</th>\n",
       "      <td>18395.0</td>\n",
       "      <td>09.01.202210:17:04</td>\n",
       "      <td>michelle.eigenmann@outlook.com</td>\n",
       "      <td>Michelle</td>\n",
       "      <td>Eigenmann</td>\n",
       "      <td>NaN</td>\n",
       "      <td>NaN</td>\n",
       "      <td>NaN</td>\n",
       "      <td>NaN</td>\n",
       "      <td>NaN</td>\n",
       "      <td>...</td>\n",
       "      <td>0.0</td>\n",
       "      <td>0.0</td>\n",
       "      <td>NaN</td>\n",
       "      <td>0.0</td>\n",
       "      <td>0.0</td>\n",
       "      <td>09.01.2022</td>\n",
       "      <td>0.0</td>\n",
       "      <td>0.0</td>\n",
       "      <td>SusanneMeierMemorial,Basel(24.05.2021)</td>\n",
       "      <td>NaN</td>\n",
       "    </tr>\n",
       "    <tr>\n",
       "      <th>18</th>\n",
       "      <td>18396.0</td>\n",
       "      <td>09.01.202210:46:36</td>\n",
       "      <td>info@stb-la.ch</td>\n",
       "      <td>Beatrice</td>\n",
       "      <td>Born</td>\n",
       "      <td>Thunstrasse107</td>\n",
       "      <td>NaN</td>\n",
       "      <td>Bern</td>\n",
       "      <td>NaN</td>\n",
       "      <td>3006</td>\n",
       "      <td>...</td>\n",
       "      <td>0.0</td>\n",
       "      <td>0.0</td>\n",
       "      <td>NaN</td>\n",
       "      <td>0.0</td>\n",
       "      <td>0.0</td>\n",
       "      <td>09.01.2022</td>\n",
       "      <td>0.0</td>\n",
       "      <td>0.0</td>\n",
       "      <td>UBSCross,Düdingen(12.01.2019)|SolothurnerCross...</td>\n",
       "      <td>NaN</td>\n",
       "    </tr>\n",
       "    <tr>\n",
       "      <th>19</th>\n",
       "      <td>18397.0</td>\n",
       "      <td>09.01.202211:40:07</td>\n",
       "      <td>michelle.eigenmann@outlook.com</td>\n",
       "      <td>Michelle</td>\n",
       "      <td>Eigenmann</td>\n",
       "      <td>NaN</td>\n",
       "      <td>NaN</td>\n",
       "      <td>NaN</td>\n",
       "      <td>NaN</td>\n",
       "      <td>NaN</td>\n",
       "      <td>...</td>\n",
       "      <td>0.0</td>\n",
       "      <td>0.0</td>\n",
       "      <td>NaN</td>\n",
       "      <td>0.0</td>\n",
       "      <td>0.0</td>\n",
       "      <td>09.01.2022</td>\n",
       "      <td>0.0</td>\n",
       "      <td>0.0</td>\n",
       "      <td>CITIUS-Meeting,Bern(21.08.2021)</td>\n",
       "      <td>NaN</td>\n",
       "    </tr>\n",
       "  </tbody>\n",
       "</table>\n",
       "<p>20 rows × 31 columns</p>\n",
       "</div>"
      ],
      "text/plain": [
       "    OrderID                Date                             Email FirstName  \\\n",
       "0   18378.0  01.01.202218:46:16                z.giger@bluewin.ch    Yasmin   \n",
       "1   18379.0  03.01.202213:46:58         m.zimmermann761@gmail.com   Manfred   \n",
       "2   18380.0  04.01.202212:10:12  beatfreihofer@swiss-athletics.ch      Beat   \n",
       "3   18381.0  05.01.202210:38:20      peterhaas@swiss-athletics.ch     Peter   \n",
       "4   18382.0  06.01.202206:20:07    michelle.eigenmann@outlook.com  Michelle   \n",
       "5   18383.0  06.01.202206:23:15    michelle.eigenmann@outlook.com  Michelle   \n",
       "6   18384.0  06.01.202211:52:38              info@zugformation.ch  Brigitte   \n",
       "7   18385.0  06.01.202211:58:44    michelle.eigenmann@outlook.com  Michelle   \n",
       "8   18386.0  06.01.202217:09:47  beatfreihofer@swiss-athletics.ch      Beat   \n",
       "9   18387.0  06.01.202217:13:37  beatfreihofer@swiss-athletics.ch      Beat   \n",
       "10  18388.0  07.01.202219:24:51  beatfreihofer@swiss-athletics.ch      Beat   \n",
       "11  18389.0  07.01.202219:27:43                    info@stb-la.ch  Beatrice   \n",
       "12  18390.0  07.01.202219:31:16  beatfreihofer@swiss-athletics.ch      Beat   \n",
       "13  18391.0  07.01.202219:34:53  beatfreihofer@swiss-athletics.ch      Beat   \n",
       "14  18392.0  07.01.202219:36:20  beatfreihofer@swiss-athletics.ch      Beat   \n",
       "15  18393.0  07.01.202219:43:06  beatfreihofer@swiss-athletics.ch      Beat   \n",
       "16  18394.0  08.01.202222:19:13    michelle.eigenmann@outlook.com  Michelle   \n",
       "17  18395.0  09.01.202210:17:04    michelle.eigenmann@outlook.com  Michelle   \n",
       "18  18396.0  09.01.202210:46:36                    info@stb-la.ch  Beatrice   \n",
       "19  18397.0  09.01.202211:40:07    michelle.eigenmann@outlook.com  Michelle   \n",
       "\n",
       "      LastName           Address  Address2        City State   Zip  ...  \\\n",
       "0        Giger   Bahnhofstrasse1       NaN  Romanshorn   NaN  8590  ...   \n",
       "1   Zimmermann  Mittebrühlstr.24       NaN   Bubendorf   NaN  4416  ...   \n",
       "2    Freihofer     HausdesSports       NaN      Bern22   NaN  3000  ...   \n",
       "3         Haas        Bergfeld11       NaN   Hettiswil   NaN  3325  ...   \n",
       "4    Eigenmann               NaN       NaN         NaN   NaN   NaN  ...   \n",
       "5    Eigenmann               NaN       NaN         NaN   NaN   NaN  ...   \n",
       "6        Staub       Guthirthof2       NaN         Zug   NaN  6300  ...   \n",
       "7    Eigenmann               NaN       NaN         NaN   NaN   NaN  ...   \n",
       "8    Freihofer     HausdesSports       NaN      Bern22   NaN  3000  ...   \n",
       "9    Freihofer     HausdesSports       NaN      Bern22   NaN  3000  ...   \n",
       "10   Freihofer     HausdesSports       NaN      Bern22   NaN  3000  ...   \n",
       "11        Born    Thunstrasse107       NaN        Bern   NaN  3006  ...   \n",
       "12   Freihofer     HausdesSports       NaN      Bern22   NaN  3000  ...   \n",
       "13   Freihofer     HausdesSports       NaN      Bern22   NaN  3000  ...   \n",
       "14   Freihofer     HausdesSports       NaN      Bern22   NaN  3000  ...   \n",
       "15   Freihofer     HausdesSports       NaN      Bern22   NaN  3000  ...   \n",
       "16   Eigenmann               NaN       NaN         NaN   NaN   NaN  ...   \n",
       "17   Eigenmann               NaN       NaN         NaN   NaN   NaN  ...   \n",
       "18        Born    Thunstrasse107       NaN        Bern   NaN  3006  ...   \n",
       "19   Eigenmann               NaN       NaN         NaN   NaN   NaN  ...   \n",
       "\n",
       "   Discount SubTotal CouponName TaxableAmount  PaymentAmount PaymentDate  \\\n",
       "0       0.0      0.0        NaN           0.0            0.0  01.01.2022   \n",
       "1       0.0   1200.0        NaN           0.0         1200.0  03.01.2022   \n",
       "2       0.0      0.0        NaN           0.0            0.0  04.01.2022   \n",
       "3       0.0      0.0        NaN           0.0            0.0  05.01.2022   \n",
       "4       0.0      0.0        NaN           0.0            0.0  06.01.2022   \n",
       "5       0.0      0.0        NaN           0.0            0.0  06.01.2022   \n",
       "6       0.0    500.0        NaN           0.0          500.0  06.01.2022   \n",
       "7       0.0      0.0        NaN           0.0            0.0  06.01.2022   \n",
       "8       0.0      0.0        NaN           0.0            0.0  06.01.2022   \n",
       "9       0.0      0.0        NaN           0.0            0.0  06.01.2022   \n",
       "10      0.0      0.0        NaN           0.0            0.0  07.01.2022   \n",
       "11      0.0      0.0        NaN           0.0            0.0  07.01.2022   \n",
       "12      0.0      0.0        NaN           0.0            0.0  07.01.2022   \n",
       "13      0.0      0.0        NaN           0.0            0.0  07.01.2022   \n",
       "14      0.0      0.0        NaN           0.0            0.0  07.01.2022   \n",
       "15      0.0      0.0        NaN           0.0            0.0  07.01.2022   \n",
       "16      0.0      0.0        NaN           0.0            0.0  08.01.2022   \n",
       "17      0.0      0.0        NaN           0.0            0.0  09.01.2022   \n",
       "18      0.0      0.0        NaN           0.0            0.0  09.01.2022   \n",
       "19      0.0      0.0        NaN           0.0            0.0  09.01.2022   \n",
       "\n",
       "   Credit EarlyBirdDiscount  \\\n",
       "0     0.0               0.0   \n",
       "1     0.0               0.0   \n",
       "2     0.0               0.0   \n",
       "3     0.0               0.0   \n",
       "4     0.0               0.0   \n",
       "5     0.0               0.0   \n",
       "6     0.0               0.0   \n",
       "7     0.0               0.0   \n",
       "8     0.0               0.0   \n",
       "9     0.0               0.0   \n",
       "10    0.0               0.0   \n",
       "11    0.0               0.0   \n",
       "12    0.0               0.0   \n",
       "13    0.0               0.0   \n",
       "14    0.0               0.0   \n",
       "15    0.0               0.0   \n",
       "16    0.0               0.0   \n",
       "17    0.0               0.0   \n",
       "18    0.0               0.0   \n",
       "19    0.0               0.0   \n",
       "\n",
       "                                          GalleryName Column1  \n",
       "0                                         GigerYasmin     NaN  \n",
       "1                     Staffel-SM,Hochdorf(12.09.2021)     NaN  \n",
       "2   U20-Europameisterschaften,Tallinn(15.-18.07.2021)     NaN  \n",
       "3   SwissAthleticsJubiläums-Night,Interlaken(13.11...     NaN  \n",
       "4   MilleGruyèreRegionalfinalBE,Interlaken(27.08.2...     NaN  \n",
       "5    MilleGruyèreSchweizerfinal,Appenzell(25.09.2021)     NaN  \n",
       "6         UBSKidsCupSchweizerfinal,Zürich(26.08.2017)     NaN  \n",
       "7   SwissAthleticsSprintSchweizerfinal,Schaffhause...     NaN  \n",
       "8             SwissAthleticsMarathon,Belp(03.04.2021)     NaN  \n",
       "9                10'000m&Steeple-SM,Uster(04.06.2021)     NaN  \n",
       "10  Hallen-Europameisterschaften,Torun(05.-07.03.2...     NaN  \n",
       "11  UBSCross,Düdingen(11.01.2020)|LozärnerCross,Lu...     NaN  \n",
       "12  Schweizermeisterschaften,Langenthal(25.-27.06....     NaN  \n",
       "13  Schweizermeisterschaften,Langenthal(25.-27.06....     NaN  \n",
       "14  Schweizermeisterschaften,Langenthal(25.-27.06....     NaN  \n",
       "15  Hallen-Schweizermeisterschaften,Magglingen(20....     NaN  \n",
       "16  HallenmeetingLABern&SMMehrkampfHalle,Magglinge...     NaN  \n",
       "17             SusanneMeierMemorial,Basel(24.05.2021)     NaN  \n",
       "18  UBSCross,Düdingen(12.01.2019)|SolothurnerCross...     NaN  \n",
       "19                    CITIUS-Meeting,Bern(21.08.2021)     NaN  \n",
       "\n",
       "[20 rows x 31 columns]"
      ]
     },
     "execution_count": 12,
     "metadata": {},
     "output_type": "execute_result"
    }
   ],
   "source": [
    "#import the data and display the first 20 entries.\n",
    "\n",
    "df = pd.read_csv('Athletix neu.csv',sep=';', engine='python')\n",
    "df.head(20)"
   ]
  },
  {
   "cell_type": "code",
   "execution_count": 13,
   "metadata": {
    "ExecuteTime": {
     "end_time": "2023-06-16T17:45:14.116272Z",
     "start_time": "2023-06-16T17:45:14.054275Z"
    }
   },
   "outputs": [],
   "source": [
    "#1. Remove all entries that have not paid anything (PaymentAmount 0.0).\n",
    "#2. Divide the payment amount by 100 because of the decimal places.\n",
    "#3. Create a copy of the dataframe for evaluation based on the address, name and mail address.\n",
    "\n",
    "df.drop(df.index[df.PaymentAmount== 0.0], inplace=True)\n",
    "df['PaymentAmount'] = df['PaymentAmount'].div(100)\n",
    "data_byAddress = df.copy()\n",
    "data_byName = df.copy()\n",
    "data_byeMail = df.copy()"
   ]
  },
  {
   "cell_type": "markdown",
   "metadata": {},
   "source": [
    "### Payment amount per person based on the address"
   ]
  },
  {
   "cell_type": "markdown",
   "metadata": {},
   "source": [
    "It happens that more than one person obtains the images under the same address."
   ]
  },
  {
   "cell_type": "code",
   "execution_count": 14,
   "metadata": {
    "ExecuteTime": {
     "end_time": "2023-06-16T17:45:14.163270Z",
     "start_time": "2023-06-16T17:45:14.118273Z"
    }
   },
   "outputs": [
    {
     "data": {
      "text/html": [
       "<div>\n",
       "<style scoped>\n",
       "    .dataframe tbody tr th:only-of-type {\n",
       "        vertical-align: middle;\n",
       "    }\n",
       "\n",
       "    .dataframe tbody tr th {\n",
       "        vertical-align: top;\n",
       "    }\n",
       "\n",
       "    .dataframe thead th {\n",
       "        text-align: right;\n",
       "    }\n",
       "</style>\n",
       "<table border=\"1\" class=\"dataframe\">\n",
       "  <thead>\n",
       "    <tr style=\"text-align: right;\">\n",
       "      <th></th>\n",
       "      <th>OrderID</th>\n",
       "      <th>Date</th>\n",
       "      <th>Email</th>\n",
       "      <th>FirstName</th>\n",
       "      <th>LastName</th>\n",
       "      <th>Address</th>\n",
       "      <th>Address2</th>\n",
       "      <th>City</th>\n",
       "      <th>State</th>\n",
       "      <th>Zip</th>\n",
       "      <th>...</th>\n",
       "      <th>Discount</th>\n",
       "      <th>SubTotal</th>\n",
       "      <th>CouponName</th>\n",
       "      <th>TaxableAmount</th>\n",
       "      <th>PaymentAmount</th>\n",
       "      <th>PaymentDate</th>\n",
       "      <th>Credit</th>\n",
       "      <th>EarlyBirdDiscount</th>\n",
       "      <th>GalleryName</th>\n",
       "      <th>Column1</th>\n",
       "    </tr>\n",
       "  </thead>\n",
       "  <tbody>\n",
       "    <tr>\n",
       "      <th>1956</th>\n",
       "      <td>20334.0</td>\n",
       "      <td>15.06.202211:18:54</td>\n",
       "      <td>erik.hefti@schulthess.ch</td>\n",
       "      <td>Erik</td>\n",
       "      <td>Hefti</td>\n",
       "      <td>AlteSteinhauserstrasse1</td>\n",
       "      <td>NaN</td>\n",
       "      <td>Cham</td>\n",
       "      <td>NaN</td>\n",
       "      <td>6330</td>\n",
       "      <td>...</td>\n",
       "      <td>0.0</td>\n",
       "      <td>17500.0</td>\n",
       "      <td>NaN</td>\n",
       "      <td>0.0</td>\n",
       "      <td>175.0</td>\n",
       "      <td>15.06.2022</td>\n",
       "      <td>0.0</td>\n",
       "      <td>0.0</td>\n",
       "      <td>CITIUS-Meeting,Bern(14.06.2022)</td>\n",
       "      <td>NaN</td>\n",
       "    </tr>\n",
       "    <tr>\n",
       "      <th>3572</th>\n",
       "      <td>21950.0</td>\n",
       "      <td>17.08.202209:07:34</td>\n",
       "      <td>nadine.wunderlin@schulthess.ch</td>\n",
       "      <td>Nicole</td>\n",
       "      <td>Thier</td>\n",
       "      <td>AlteSteinhauserstrasse1</td>\n",
       "      <td>NaN</td>\n",
       "      <td>Cham</td>\n",
       "      <td>NaN</td>\n",
       "      <td>6330</td>\n",
       "      <td>...</td>\n",
       "      <td>0.0</td>\n",
       "      <td>1500.0</td>\n",
       "      <td>NaN</td>\n",
       "      <td>0.0</td>\n",
       "      <td>15.0</td>\n",
       "      <td>17.08.2022</td>\n",
       "      <td>0.0</td>\n",
       "      <td>0.0</td>\n",
       "      <td>Europameisterschaften,München(15.-21.08.2022)</td>\n",
       "      <td>NaN</td>\n",
       "    </tr>\n",
       "    <tr>\n",
       "      <th>3575</th>\n",
       "      <td>21953.0</td>\n",
       "      <td>17.08.202210:12:11</td>\n",
       "      <td>nadine.wunderlin@schulthess.ch</td>\n",
       "      <td>Nicole</td>\n",
       "      <td>Thier</td>\n",
       "      <td>AlteSteinhauserstrasse1</td>\n",
       "      <td>NaN</td>\n",
       "      <td>Cham</td>\n",
       "      <td>NaN</td>\n",
       "      <td>6330</td>\n",
       "      <td>...</td>\n",
       "      <td>0.0</td>\n",
       "      <td>17500.0</td>\n",
       "      <td>NaN</td>\n",
       "      <td>0.0</td>\n",
       "      <td>175.0</td>\n",
       "      <td>17.08.2022</td>\n",
       "      <td>0.0</td>\n",
       "      <td>0.0</td>\n",
       "      <td>Europameisterschaften,München(15.-21.08.2022)</td>\n",
       "      <td>NaN</td>\n",
       "    </tr>\n",
       "  </tbody>\n",
       "</table>\n",
       "<p>3 rows × 31 columns</p>\n",
       "</div>"
      ],
      "text/plain": [
       "      OrderID                Date                           Email FirstName  \\\n",
       "1956  20334.0  15.06.202211:18:54        erik.hefti@schulthess.ch      Erik   \n",
       "3572  21950.0  17.08.202209:07:34  nadine.wunderlin@schulthess.ch    Nicole   \n",
       "3575  21953.0  17.08.202210:12:11  nadine.wunderlin@schulthess.ch    Nicole   \n",
       "\n",
       "     LastName                  Address  Address2  City State   Zip  ...  \\\n",
       "1956    Hefti  AlteSteinhauserstrasse1       NaN  Cham   NaN  6330  ...   \n",
       "3572    Thier  AlteSteinhauserstrasse1       NaN  Cham   NaN  6330  ...   \n",
       "3575    Thier  AlteSteinhauserstrasse1       NaN  Cham   NaN  6330  ...   \n",
       "\n",
       "     Discount SubTotal CouponName TaxableAmount  PaymentAmount PaymentDate  \\\n",
       "1956      0.0  17500.0        NaN           0.0          175.0  15.06.2022   \n",
       "3572      0.0   1500.0        NaN           0.0           15.0  17.08.2022   \n",
       "3575      0.0  17500.0        NaN           0.0          175.0  17.08.2022   \n",
       "\n",
       "     Credit EarlyBirdDiscount                                    GalleryName  \\\n",
       "1956    0.0               0.0                CITIUS-Meeting,Bern(14.06.2022)   \n",
       "3572    0.0               0.0  Europameisterschaften,München(15.-21.08.2022)   \n",
       "3575    0.0               0.0  Europameisterschaften,München(15.-21.08.2022)   \n",
       "\n",
       "     Column1  \n",
       "1956     NaN  \n",
       "3572     NaN  \n",
       "3575     NaN  \n",
       "\n",
       "[3 rows x 31 columns]"
      ]
     },
     "execution_count": 14,
     "metadata": {},
     "output_type": "execute_result"
    }
   ],
   "source": [
    "df_steinhausen = data_byAddress[data_byAddress.Address == \"AlteSteinhauserstrasse1\"]\n",
    "df_steinhausen.head()"
   ]
  },
  {
   "cell_type": "code",
   "execution_count": 15,
   "metadata": {
    "ExecuteTime": {
     "end_time": "2023-06-16T17:45:14.194270Z",
     "start_time": "2023-06-16T17:45:14.165271Z"
    }
   },
   "outputs": [
    {
     "data": {
      "text/html": [
       "<div>\n",
       "<style scoped>\n",
       "    .dataframe tbody tr th:only-of-type {\n",
       "        vertical-align: middle;\n",
       "    }\n",
       "\n",
       "    .dataframe tbody tr th {\n",
       "        vertical-align: top;\n",
       "    }\n",
       "\n",
       "    .dataframe thead th {\n",
       "        text-align: right;\n",
       "    }\n",
       "</style>\n",
       "<table border=\"1\" class=\"dataframe\">\n",
       "  <thead>\n",
       "    <tr style=\"text-align: right;\">\n",
       "      <th></th>\n",
       "      <th>Address</th>\n",
       "      <th>PaymentAmount</th>\n",
       "    </tr>\n",
       "  </thead>\n",
       "  <tbody>\n",
       "    <tr>\n",
       "      <th>0</th>\n",
       "      <td>132RuedelaVelle</td>\n",
       "      <td>25.0</td>\n",
       "    </tr>\n",
       "    <tr>\n",
       "      <th>1</th>\n",
       "      <td>14cheminduPont-Noir</td>\n",
       "      <td>5.0</td>\n",
       "    </tr>\n",
       "    <tr>\n",
       "      <th>2</th>\n",
       "      <td>179rueLafayette</td>\n",
       "      <td>5.0</td>\n",
       "    </tr>\n",
       "    <tr>\n",
       "      <th>3</th>\n",
       "      <td>17CheminduLevant</td>\n",
       "      <td>10.0</td>\n",
       "    </tr>\n",
       "    <tr>\n",
       "      <th>4</th>\n",
       "      <td>17RuedelaFerme</td>\n",
       "      <td>36.0</td>\n",
       "    </tr>\n",
       "  </tbody>\n",
       "</table>\n",
       "</div>"
      ],
      "text/plain": [
       "               Address  PaymentAmount\n",
       "0      132RuedelaVelle           25.0\n",
       "1  14cheminduPont-Noir            5.0\n",
       "2      179rueLafayette            5.0\n",
       "3     17CheminduLevant           10.0\n",
       "4       17RuedelaFerme           36.0"
      ]
     },
     "execution_count": 15,
     "metadata": {},
     "output_type": "execute_result"
    }
   ],
   "source": [
    "#Reduce the dataframe to the columns Address and PaymentAmount and add the same entries together.\n",
    "data_byAddress = data_byAddress.groupby(['Address'])['PaymentAmount'].sum().reset_index()\n",
    "data_byAddress.head()"
   ]
  },
  {
   "cell_type": "code",
   "execution_count": 16,
   "metadata": {
    "ExecuteTime": {
     "end_time": "2023-06-16T17:45:14.209269Z",
     "start_time": "2023-06-16T17:45:14.196270Z"
    }
   },
   "outputs": [
    {
     "data": {
      "text/html": [
       "<div>\n",
       "<style scoped>\n",
       "    .dataframe tbody tr th:only-of-type {\n",
       "        vertical-align: middle;\n",
       "    }\n",
       "\n",
       "    .dataframe tbody tr th {\n",
       "        vertical-align: top;\n",
       "    }\n",
       "\n",
       "    .dataframe thead th {\n",
       "        text-align: right;\n",
       "    }\n",
       "</style>\n",
       "<table border=\"1\" class=\"dataframe\">\n",
       "  <thead>\n",
       "    <tr style=\"text-align: right;\">\n",
       "      <th></th>\n",
       "      <th>Address</th>\n",
       "      <th>PaymentAmount</th>\n",
       "    </tr>\n",
       "  </thead>\n",
       "  <tbody>\n",
       "    <tr>\n",
       "      <th>384</th>\n",
       "      <td>RuedesFossés27</td>\n",
       "      <td>1050.0</td>\n",
       "    </tr>\n",
       "    <tr>\n",
       "      <th>182</th>\n",
       "      <td>Grabenstrasse10</td>\n",
       "      <td>525.0</td>\n",
       "    </tr>\n",
       "    <tr>\n",
       "      <th>204</th>\n",
       "      <td>Hauptstr.31</td>\n",
       "      <td>463.0</td>\n",
       "    </tr>\n",
       "    <tr>\n",
       "      <th>72</th>\n",
       "      <td>BimHasel17</td>\n",
       "      <td>400.0</td>\n",
       "    </tr>\n",
       "    <tr>\n",
       "      <th>33</th>\n",
       "      <td>AlteSteinhauserstrasse1</td>\n",
       "      <td>365.0</td>\n",
       "    </tr>\n",
       "    <tr>\n",
       "      <th>424</th>\n",
       "      <td>Sonder17</td>\n",
       "      <td>325.0</td>\n",
       "    </tr>\n",
       "    <tr>\n",
       "      <th>35</th>\n",
       "      <td>AlterSeeweg22</td>\n",
       "      <td>300.0</td>\n",
       "    </tr>\n",
       "    <tr>\n",
       "      <th>190</th>\n",
       "      <td>Habich-Dietschy-Str.5a</td>\n",
       "      <td>300.0</td>\n",
       "    </tr>\n",
       "    <tr>\n",
       "      <th>485</th>\n",
       "      <td>Weststrasse23</td>\n",
       "      <td>265.0</td>\n",
       "    </tr>\n",
       "    <tr>\n",
       "      <th>362</th>\n",
       "      <td>Robert-Walser-Platz7</td>\n",
       "      <td>252.0</td>\n",
       "    </tr>\n",
       "  </tbody>\n",
       "</table>\n",
       "</div>"
      ],
      "text/plain": [
       "                     Address  PaymentAmount\n",
       "384           RuedesFossés27         1050.0\n",
       "182          Grabenstrasse10          525.0\n",
       "204              Hauptstr.31          463.0\n",
       "72                BimHasel17          400.0\n",
       "33   AlteSteinhauserstrasse1          365.0\n",
       "424                 Sonder17          325.0\n",
       "35             AlterSeeweg22          300.0\n",
       "190   Habich-Dietschy-Str.5a          300.0\n",
       "485            Weststrasse23          265.0\n",
       "362     Robert-Walser-Platz7          252.0"
      ]
     },
     "execution_count": 16,
     "metadata": {},
     "output_type": "execute_result"
    }
   ],
   "source": [
    "#Sort the dataframe in descending order by the PaymentAmount column and display the first 10 entries.\n",
    "data_byAddress = data_byAddress.sort_values(by='PaymentAmount', ascending=False)\n",
    "data_byAddress.head(10)"
   ]
  },
  {
   "cell_type": "markdown",
   "metadata": {},
   "source": [
    "### Payment amount per person based on the Name"
   ]
  },
  {
   "cell_type": "code",
   "execution_count": 17,
   "metadata": {
    "ExecuteTime": {
     "end_time": "2023-06-16T17:45:14.240270Z",
     "start_time": "2023-06-16T17:45:14.211270Z"
    }
   },
   "outputs": [
    {
     "data": {
      "text/html": [
       "<div>\n",
       "<style scoped>\n",
       "    .dataframe tbody tr th:only-of-type {\n",
       "        vertical-align: middle;\n",
       "    }\n",
       "\n",
       "    .dataframe tbody tr th {\n",
       "        vertical-align: top;\n",
       "    }\n",
       "\n",
       "    .dataframe thead th {\n",
       "        text-align: right;\n",
       "    }\n",
       "</style>\n",
       "<table border=\"1\" class=\"dataframe\">\n",
       "  <thead>\n",
       "    <tr style=\"text-align: right;\">\n",
       "      <th></th>\n",
       "      <th>FirstName</th>\n",
       "      <th>LastName</th>\n",
       "      <th>Address</th>\n",
       "      <th>PaymentAmount</th>\n",
       "    </tr>\n",
       "  </thead>\n",
       "  <tbody>\n",
       "    <tr>\n",
       "      <th>0</th>\n",
       "      <td>Aarno</td>\n",
       "      <td>Liebl</td>\n",
       "      <td>Bellevuestrasse166</td>\n",
       "      <td>10.0</td>\n",
       "    </tr>\n",
       "    <tr>\n",
       "      <th>1</th>\n",
       "      <td>Aaurilorena</td>\n",
       "      <td>BokesaAbia</td>\n",
       "      <td>Lindenstrasse,73</td>\n",
       "      <td>5.0</td>\n",
       "    </tr>\n",
       "    <tr>\n",
       "      <th>2</th>\n",
       "      <td>Abdi</td>\n",
       "      <td>Ali</td>\n",
       "      <td>Thujastrasse,29</td>\n",
       "      <td>5.0</td>\n",
       "    </tr>\n",
       "    <tr>\n",
       "      <th>3</th>\n",
       "      <td>Acklin</td>\n",
       "      <td>Doris</td>\n",
       "      <td>Hübstelstrasse1b</td>\n",
       "      <td>10.0</td>\n",
       "    </tr>\n",
       "    <tr>\n",
       "      <th>4</th>\n",
       "      <td>Adrian</td>\n",
       "      <td>Kübler</td>\n",
       "      <td>Ausserdorfstrasse29</td>\n",
       "      <td>10.0</td>\n",
       "    </tr>\n",
       "  </tbody>\n",
       "</table>\n",
       "</div>"
      ],
      "text/plain": [
       "     FirstName    LastName              Address  PaymentAmount\n",
       "0        Aarno       Liebl   Bellevuestrasse166           10.0\n",
       "1  Aaurilorena  BokesaAbia     Lindenstrasse,73            5.0\n",
       "2         Abdi         Ali      Thujastrasse,29            5.0\n",
       "3       Acklin       Doris     Hübstelstrasse1b           10.0\n",
       "4       Adrian      Kübler  Ausserdorfstrasse29           10.0"
      ]
     },
     "execution_count": 17,
     "metadata": {},
     "output_type": "execute_result"
    }
   ],
   "source": [
    "#Reduce the dataframe to the columns FirstName, LastName, Address and PaymentAmount and add the same entries together.\n",
    "data_byName = data_byName.groupby(['FirstName','LastName','Address'])['PaymentAmount'].sum().reset_index()\n",
    "data_byName.head()"
   ]
  },
  {
   "cell_type": "code",
   "execution_count": 18,
   "metadata": {
    "ExecuteTime": {
     "end_time": "2023-06-16T17:45:14.272267Z",
     "start_time": "2023-06-16T17:45:14.243269Z"
    }
   },
   "outputs": [
    {
     "data": {
      "text/html": [
       "<div>\n",
       "<style scoped>\n",
       "    .dataframe tbody tr th:only-of-type {\n",
       "        vertical-align: middle;\n",
       "    }\n",
       "\n",
       "    .dataframe tbody tr th {\n",
       "        vertical-align: top;\n",
       "    }\n",
       "\n",
       "    .dataframe thead th {\n",
       "        text-align: right;\n",
       "    }\n",
       "</style>\n",
       "<table border=\"1\" class=\"dataframe\">\n",
       "  <thead>\n",
       "    <tr style=\"text-align: right;\">\n",
       "      <th></th>\n",
       "      <th>FirstName</th>\n",
       "      <th>LastName</th>\n",
       "      <th>Address</th>\n",
       "      <th>PaymentAmount</th>\n",
       "    </tr>\n",
       "  </thead>\n",
       "  <tbody>\n",
       "    <tr>\n",
       "      <th>182</th>\n",
       "      <td>Gabriel</td>\n",
       "      <td>Burger</td>\n",
       "      <td>RuedesFossés27</td>\n",
       "      <td>1050.0</td>\n",
       "    </tr>\n",
       "    <tr>\n",
       "      <th>510</th>\n",
       "      <td>Thomas</td>\n",
       "      <td>Hahn</td>\n",
       "      <td>Grabenstrasse10</td>\n",
       "      <td>525.0</td>\n",
       "    </tr>\n",
       "    <tr>\n",
       "      <th>469</th>\n",
       "      <td>Schmutz</td>\n",
       "      <td>Patrick</td>\n",
       "      <td>Hauptstr.31</td>\n",
       "      <td>463.0</td>\n",
       "    </tr>\n",
       "    <tr>\n",
       "      <th>126</th>\n",
       "      <td>David</td>\n",
       "      <td>Spichiger</td>\n",
       "      <td>BimHasel17</td>\n",
       "      <td>400.0</td>\n",
       "    </tr>\n",
       "    <tr>\n",
       "      <th>56</th>\n",
       "      <td>Beat</td>\n",
       "      <td>Schweizer</td>\n",
       "      <td>AlterSeeweg22</td>\n",
       "      <td>300.0</td>\n",
       "    </tr>\n",
       "    <tr>\n",
       "      <th>249</th>\n",
       "      <td>Julia</td>\n",
       "      <td>Rieger</td>\n",
       "      <td>Habich-Dietschy-Str.5a</td>\n",
       "      <td>300.0</td>\n",
       "    </tr>\n",
       "    <tr>\n",
       "      <th>59</th>\n",
       "      <td>Bettina</td>\n",
       "      <td>Deillon</td>\n",
       "      <td>Sonder17</td>\n",
       "      <td>290.0</td>\n",
       "    </tr>\n",
       "    <tr>\n",
       "      <th>443</th>\n",
       "      <td>Reto</td>\n",
       "      <td>Pfister</td>\n",
       "      <td>Robert-Walser-Platz7</td>\n",
       "      <td>252.0</td>\n",
       "    </tr>\n",
       "    <tr>\n",
       "      <th>432</th>\n",
       "      <td>Rabea</td>\n",
       "      <td>Grand</td>\n",
       "      <td>Riedbachstrasse161,Postfach</td>\n",
       "      <td>250.0</td>\n",
       "    </tr>\n",
       "    <tr>\n",
       "      <th>25</th>\n",
       "      <td>Andreas</td>\n",
       "      <td>Gerber</td>\n",
       "      <td>Lindenstrasse32</td>\n",
       "      <td>222.0</td>\n",
       "    </tr>\n",
       "  </tbody>\n",
       "</table>\n",
       "</div>"
      ],
      "text/plain": [
       "    FirstName   LastName                      Address  PaymentAmount\n",
       "182   Gabriel     Burger               RuedesFossés27         1050.0\n",
       "510    Thomas       Hahn              Grabenstrasse10          525.0\n",
       "469   Schmutz    Patrick                  Hauptstr.31          463.0\n",
       "126     David  Spichiger                   BimHasel17          400.0\n",
       "56       Beat  Schweizer                AlterSeeweg22          300.0\n",
       "249     Julia     Rieger       Habich-Dietschy-Str.5a          300.0\n",
       "59    Bettina    Deillon                     Sonder17          290.0\n",
       "443      Reto    Pfister         Robert-Walser-Platz7          252.0\n",
       "432     Rabea      Grand  Riedbachstrasse161,Postfach          250.0\n",
       "25    Andreas     Gerber              Lindenstrasse32          222.0"
      ]
     },
     "execution_count": 18,
     "metadata": {},
     "output_type": "execute_result"
    }
   ],
   "source": [
    "#Sort the dataframe in descending order by the PaymentAmount column and display the first 10 entries.\n",
    "data_byName = data_byName.sort_values(by='PaymentAmount', ascending=False)\n",
    "data_byName.head(10)"
   ]
  },
  {
   "cell_type": "markdown",
   "metadata": {},
   "source": [
    "### Payment amount per person based on the E-Mail address"
   ]
  },
  {
   "cell_type": "code",
   "execution_count": 19,
   "metadata": {
    "ExecuteTime": {
     "end_time": "2023-06-16T17:45:14.303267Z",
     "start_time": "2023-06-16T17:45:14.275268Z"
    }
   },
   "outputs": [
    {
     "data": {
      "text/html": [
       "<div>\n",
       "<style scoped>\n",
       "    .dataframe tbody tr th:only-of-type {\n",
       "        vertical-align: middle;\n",
       "    }\n",
       "\n",
       "    .dataframe tbody tr th {\n",
       "        vertical-align: top;\n",
       "    }\n",
       "\n",
       "    .dataframe thead th {\n",
       "        text-align: right;\n",
       "    }\n",
       "</style>\n",
       "<table border=\"1\" class=\"dataframe\">\n",
       "  <thead>\n",
       "    <tr style=\"text-align: right;\">\n",
       "      <th></th>\n",
       "      <th>Email</th>\n",
       "      <th>PaymentAmount</th>\n",
       "    </tr>\n",
       "  </thead>\n",
       "  <tbody>\n",
       "    <tr>\n",
       "      <th>0</th>\n",
       "      <td>099celine@gmail.com</td>\n",
       "      <td>20.0</td>\n",
       "    </tr>\n",
       "    <tr>\n",
       "      <th>1</th>\n",
       "      <td>0sturmboeen-gekappt@icloud.com</td>\n",
       "      <td>5.0</td>\n",
       "    </tr>\n",
       "    <tr>\n",
       "      <th>2</th>\n",
       "      <td>44Samuel44@gmail.com</td>\n",
       "      <td>25.0</td>\n",
       "    </tr>\n",
       "    <tr>\n",
       "      <th>3</th>\n",
       "      <td>Alexandra@familiebeer.ch</td>\n",
       "      <td>5.0</td>\n",
       "    </tr>\n",
       "    <tr>\n",
       "      <th>4</th>\n",
       "      <td>Andreas.Baumann@dell.com</td>\n",
       "      <td>5.0</td>\n",
       "    </tr>\n",
       "  </tbody>\n",
       "</table>\n",
       "</div>"
      ],
      "text/plain": [
       "                            Email  PaymentAmount\n",
       "0             099celine@gmail.com           20.0\n",
       "1  0sturmboeen-gekappt@icloud.com            5.0\n",
       "2            44Samuel44@gmail.com           25.0\n",
       "3        Alexandra@familiebeer.ch            5.0\n",
       "4        Andreas.Baumann@dell.com            5.0"
      ]
     },
     "execution_count": 19,
     "metadata": {},
     "output_type": "execute_result"
    }
   ],
   "source": [
    "#Reduce the dataframe to the columns Email and PaymentAmount and add the same entries together.\n",
    "data_byeMail = data_byeMail.groupby(['Email'])['PaymentAmount'].sum().reset_index()\n",
    "data_byeMail.head()"
   ]
  },
  {
   "cell_type": "markdown",
   "metadata": {},
   "source": [
    "## Payment Amount per Product Category"
   ]
  },
  {
   "cell_type": "markdown",
   "metadata": {},
   "source": [
    "### Collect data - Data preprocessing"
   ]
  },
  {
   "cell_type": "code",
   "execution_count": 20,
   "metadata": {
    "ExecuteTime": {
     "end_time": "2023-06-16T17:45:14.533259Z",
     "start_time": "2023-06-16T17:45:14.306267Z"
    }
   },
   "outputs": [
    {
     "data": {
      "text/html": [
       "<div>\n",
       "<style scoped>\n",
       "    .dataframe tbody tr th:only-of-type {\n",
       "        vertical-align: middle;\n",
       "    }\n",
       "\n",
       "    .dataframe tbody tr th {\n",
       "        vertical-align: top;\n",
       "    }\n",
       "\n",
       "    .dataframe thead th {\n",
       "        text-align: right;\n",
       "    }\n",
       "</style>\n",
       "<table border=\"1\" class=\"dataframe\">\n",
       "  <thead>\n",
       "    <tr style=\"text-align: right;\">\n",
       "      <th></th>\n",
       "      <th>Category</th>\n",
       "      <th>Price</th>\n",
       "      <th>ORDER #</th>\n",
       "      <th>DATE</th>\n",
       "      <th>First Name</th>\n",
       "      <th>Last Name</th>\n",
       "      <th>FILE NAME + PHOTOGRAPHER</th>\n",
       "      <th>PRODUCTS</th>\n",
       "      <th>PRODUCTS_1</th>\n",
       "      <th>Gallery</th>\n",
       "      <th>Column1</th>\n",
       "    </tr>\n",
       "  </thead>\n",
       "  <tbody>\n",
       "    <tr>\n",
       "      <th>0</th>\n",
       "      <td>Photos2022</td>\n",
       "      <td>0.0</td>\n",
       "      <td>23171.0</td>\n",
       "      <td>31.12.2022</td>\n",
       "      <td>Ulf</td>\n",
       "      <td>Schiller</td>\n",
       "      <td>20220816_EM-Muenchen_0142+MS</td>\n",
       "      <td>(1)abo_high-res_free+0.00</td>\n",
       "      <td>(1)High-Res</td>\n",
       "      <td>Europameisterschaften,München(15.-21.08.2022)</td>\n",
       "      <td>NaN</td>\n",
       "    </tr>\n",
       "    <tr>\n",
       "      <th>1</th>\n",
       "      <td>Photos2022</td>\n",
       "      <td>0.0</td>\n",
       "      <td>23170.0</td>\n",
       "      <td>31.12.2022</td>\n",
       "      <td>Marco</td>\n",
       "      <td>Aeschlimann</td>\n",
       "      <td>20220521_S_Genf_12303+US</td>\n",
       "      <td>(1)abo_vereine_highres</td>\n",
       "      <td>(1)High-Res</td>\n",
       "      <td>SVM-FinalNLA,Genève(21.05.2022)</td>\n",
       "      <td>NaN</td>\n",
       "    </tr>\n",
       "    <tr>\n",
       "      <th>2</th>\n",
       "      <td>Photos2022</td>\n",
       "      <td>0.0</td>\n",
       "      <td>23169.0</td>\n",
       "      <td>31.12.2022</td>\n",
       "      <td>Florian</td>\n",
       "      <td>Clivaz</td>\n",
       "      <td>20220819_EM-Muenchen_0077+MS</td>\n",
       "      <td>(1)abo_vereine_highres</td>\n",
       "      <td>(1)High-Res</td>\n",
       "      <td>Europameisterschaften,München(15.-21.08.2022)</td>\n",
       "      <td>NaN</td>\n",
       "    </tr>\n",
       "    <tr>\n",
       "      <th>3</th>\n",
       "      <td>Photos2022</td>\n",
       "      <td>0.0</td>\n",
       "      <td>23169.0</td>\n",
       "      <td>31.12.2022</td>\n",
       "      <td>Florian</td>\n",
       "      <td>Clivaz</td>\n",
       "      <td>20220819_EM-Muenchen_0084+MS</td>\n",
       "      <td>(1)abo_vereine_highres</td>\n",
       "      <td>(1)High-Res</td>\n",
       "      <td>Europameisterschaften,München(15.-21.08.2022)</td>\n",
       "      <td>NaN</td>\n",
       "    </tr>\n",
       "    <tr>\n",
       "      <th>4</th>\n",
       "      <td>Photos2022</td>\n",
       "      <td>0.0</td>\n",
       "      <td>23169.0</td>\n",
       "      <td>31.12.2022</td>\n",
       "      <td>Florian</td>\n",
       "      <td>Clivaz</td>\n",
       "      <td>20220819_EM-Muenchen_0115+BSP</td>\n",
       "      <td>(1)abo_vereine_highres</td>\n",
       "      <td>(1)High-Res</td>\n",
       "      <td>Europameisterschaften,München(15.-21.08.2022)</td>\n",
       "      <td>NaN</td>\n",
       "    </tr>\n",
       "    <tr>\n",
       "      <th>5</th>\n",
       "      <td>Photos2022</td>\n",
       "      <td>0.0</td>\n",
       "      <td>23168.0</td>\n",
       "      <td>31.12.2022</td>\n",
       "      <td>Michelle</td>\n",
       "      <td>Eigenmann</td>\n",
       "      <td>20220816_EM-Muenchen_0178+BSP</td>\n",
       "      <td>(1)abo_high-res_free+0.00</td>\n",
       "      <td>(1)High-Res</td>\n",
       "      <td>Europameisterschaften,München(15.-21.08.2022)</td>\n",
       "      <td>NaN</td>\n",
       "    </tr>\n",
       "    <tr>\n",
       "      <th>6</th>\n",
       "      <td>Photos2022</td>\n",
       "      <td>0.0</td>\n",
       "      <td>23167.0</td>\n",
       "      <td>31.12.2022</td>\n",
       "      <td>Beat</td>\n",
       "      <td>Freihofer</td>\n",
       "      <td>CITIUS-5794+TL</td>\n",
       "      <td>(1)abo_high-res_free+0.00</td>\n",
       "      <td>(1)High-Res</td>\n",
       "      <td>CITIUS-Meeting,Bern(14.06.2022)</td>\n",
       "      <td>NaN</td>\n",
       "    </tr>\n",
       "    <tr>\n",
       "      <th>7</th>\n",
       "      <td>Photos2022</td>\n",
       "      <td>0.0</td>\n",
       "      <td>23166.0</td>\n",
       "      <td>30.12.2022</td>\n",
       "      <td>Lars</td>\n",
       "      <td>Meyer</td>\n",
       "      <td>20220624_S_Zuerich_17933+US</td>\n",
       "      <td>(1)abo_high-res_free+0.00</td>\n",
       "      <td>(1)High-Res</td>\n",
       "      <td>Schweizermeisterschaften,Zürich(24.-25.06.2022)</td>\n",
       "      <td>NaN</td>\n",
       "    </tr>\n",
       "    <tr>\n",
       "      <th>8</th>\n",
       "      <td>Photos2022</td>\n",
       "      <td>0.0</td>\n",
       "      <td>23165.0</td>\n",
       "      <td>30.12.2022</td>\n",
       "      <td>Geraldine</td>\n",
       "      <td>Frey</td>\n",
       "      <td>SM_2022-7504+TL</td>\n",
       "      <td>(1)abo_high-res_free+0.00</td>\n",
       "      <td>(1)High-Res</td>\n",
       "      <td>Schweizermeisterschaften,Zürich(24.-25.06.2022)</td>\n",
       "      <td>NaN</td>\n",
       "    </tr>\n",
       "    <tr>\n",
       "      <th>9</th>\n",
       "      <td>Photos2022</td>\n",
       "      <td>0.0</td>\n",
       "      <td>23165.0</td>\n",
       "      <td>30.12.2022</td>\n",
       "      <td>Geraldine</td>\n",
       "      <td>Frey</td>\n",
       "      <td>SM_2022-8437+TL</td>\n",
       "      <td>(1)abo_high-res_free+0.00</td>\n",
       "      <td>(1)High-Res</td>\n",
       "      <td>Schweizermeisterschaften,Zürich(24.-25.06.2022)</td>\n",
       "      <td>NaN</td>\n",
       "    </tr>\n",
       "    <tr>\n",
       "      <th>10</th>\n",
       "      <td>Photos2022</td>\n",
       "      <td>0.0</td>\n",
       "      <td>23164.0</td>\n",
       "      <td>29.12.2022</td>\n",
       "      <td>Ulf</td>\n",
       "      <td>Schiller</td>\n",
       "      <td>20220912_S_Bellinzona_07636+US</td>\n",
       "      <td>(1)abo_high-res_free+0.00</td>\n",
       "      <td>(1)High-Res</td>\n",
       "      <td>GalàdeiCastelli,Bellinzona(12.09.2022)</td>\n",
       "      <td>NaN</td>\n",
       "    </tr>\n",
       "    <tr>\n",
       "      <th>11</th>\n",
       "      <td>Photos2022</td>\n",
       "      <td>0.0</td>\n",
       "      <td>23163.0</td>\n",
       "      <td>29.12.2022</td>\n",
       "      <td>Ulf</td>\n",
       "      <td>Schiller</td>\n",
       "      <td>20220716_S_Eugene_22755+US</td>\n",
       "      <td>(1)abo_high-res_free+0.00</td>\n",
       "      <td>(1)High-Res</td>\n",
       "      <td>Weltmeisterschaften,Eugene(15.-24.07.2022)</td>\n",
       "      <td>NaN</td>\n",
       "    </tr>\n",
       "    <tr>\n",
       "      <th>12</th>\n",
       "      <td>Photos2022</td>\n",
       "      <td>0.0</td>\n",
       "      <td>23162.0</td>\n",
       "      <td>29.12.2022</td>\n",
       "      <td>Ulf</td>\n",
       "      <td>Schiller</td>\n",
       "      <td>20220717_S_Eugene_23874+US</td>\n",
       "      <td>(1)abo_high-res_free+0.00</td>\n",
       "      <td>(1)High-Res</td>\n",
       "      <td>Weltmeisterschaften,Eugene(15.-24.07.2022)</td>\n",
       "      <td>NaN</td>\n",
       "    </tr>\n",
       "    <tr>\n",
       "      <th>13</th>\n",
       "      <td>Photos2022</td>\n",
       "      <td>0.0</td>\n",
       "      <td>23161.0</td>\n",
       "      <td>29.12.2022</td>\n",
       "      <td>Ulf</td>\n",
       "      <td>Schiller</td>\n",
       "      <td>20220717_S_Eugene_23820+US</td>\n",
       "      <td>(1)abo_high-res_free+0.00</td>\n",
       "      <td>(1)High-Res</td>\n",
       "      <td>Weltmeisterschaften,Eugene(15.-24.07.2022)</td>\n",
       "      <td>NaN</td>\n",
       "    </tr>\n",
       "    <tr>\n",
       "      <th>14</th>\n",
       "      <td>Photos2022</td>\n",
       "      <td>0.0</td>\n",
       "      <td>23160.0</td>\n",
       "      <td>29.12.2022</td>\n",
       "      <td>Ulf</td>\n",
       "      <td>Schiller</td>\n",
       "      <td>20220724_S_Eugene_02178+US</td>\n",
       "      <td>(1)abo_high-res_free+0.00</td>\n",
       "      <td>(1)High-Res</td>\n",
       "      <td>Weltmeisterschaften,Eugene(15.-24.07.2022)</td>\n",
       "      <td>NaN</td>\n",
       "    </tr>\n",
       "    <tr>\n",
       "      <th>15</th>\n",
       "      <td>Photos2022</td>\n",
       "      <td>0.0</td>\n",
       "      <td>23159.0</td>\n",
       "      <td>29.12.2022</td>\n",
       "      <td>Ulf</td>\n",
       "      <td>Schiller</td>\n",
       "      <td>20220724_S_Eugene_02176+US</td>\n",
       "      <td>(1)abo_high-res_free+0.00</td>\n",
       "      <td>(1)High-Res</td>\n",
       "      <td>Weltmeisterschaften,Eugene(15.-24.07.2022)</td>\n",
       "      <td>NaN</td>\n",
       "    </tr>\n",
       "    <tr>\n",
       "      <th>16</th>\n",
       "      <td>Photos2022</td>\n",
       "      <td>0.0</td>\n",
       "      <td>23159.0</td>\n",
       "      <td>29.12.2022</td>\n",
       "      <td>Ulf</td>\n",
       "      <td>Schiller</td>\n",
       "      <td>20220816_EM-Muenchen_0168+MS</td>\n",
       "      <td>(1)abo_high-res_free+0.00</td>\n",
       "      <td>(1)High-Res</td>\n",
       "      <td>Europameisterschaften,München(15.-21.08.2022)</td>\n",
       "      <td>NaN</td>\n",
       "    </tr>\n",
       "    <tr>\n",
       "      <th>17</th>\n",
       "      <td>Photos2022</td>\n",
       "      <td>0.0</td>\n",
       "      <td>23158.0</td>\n",
       "      <td>28.12.2022</td>\n",
       "      <td>Beat</td>\n",
       "      <td>Freihofer</td>\n",
       "      <td>20220719_S_Eugene_00521+US</td>\n",
       "      <td>(1)abo_high-res_free+0.00</td>\n",
       "      <td>(1)High-Res</td>\n",
       "      <td>Weltmeisterschaften,Eugene(15.-24.07.2022)</td>\n",
       "      <td>NaN</td>\n",
       "    </tr>\n",
       "    <tr>\n",
       "      <th>18</th>\n",
       "      <td>Photos2022</td>\n",
       "      <td>0.0</td>\n",
       "      <td>23157.0</td>\n",
       "      <td>28.12.2022</td>\n",
       "      <td>Ulf</td>\n",
       "      <td>Schiller</td>\n",
       "      <td>20220819_EM-Muenchen_0028+MS</td>\n",
       "      <td>(1)abo_high-res_free+0.00</td>\n",
       "      <td>(1)High-Res</td>\n",
       "      <td>Europameisterschaften,München(15.-21.08.2022)</td>\n",
       "      <td>NaN</td>\n",
       "    </tr>\n",
       "    <tr>\n",
       "      <th>19</th>\n",
       "      <td>Photos2022</td>\n",
       "      <td>0.0</td>\n",
       "      <td>23156.0</td>\n",
       "      <td>27.12.2022</td>\n",
       "      <td>Ulf</td>\n",
       "      <td>Schiller</td>\n",
       "      <td>20220817_EM-Muenchen_0021+MS</td>\n",
       "      <td>(1)abo_high-res_free+0.00</td>\n",
       "      <td>(1)High-Res</td>\n",
       "      <td>Europameisterschaften,München(15.-21.08.2022)</td>\n",
       "      <td>NaN</td>\n",
       "    </tr>\n",
       "  </tbody>\n",
       "</table>\n",
       "</div>"
      ],
      "text/plain": [
       "      Category  Price  ORDER #        DATE First Name    Last Name  \\\n",
       "0   Photos2022    0.0  23171.0  31.12.2022        Ulf     Schiller   \n",
       "1   Photos2022    0.0  23170.0  31.12.2022      Marco  Aeschlimann   \n",
       "2   Photos2022    0.0  23169.0  31.12.2022    Florian       Clivaz   \n",
       "3   Photos2022    0.0  23169.0  31.12.2022    Florian       Clivaz   \n",
       "4   Photos2022    0.0  23169.0  31.12.2022    Florian       Clivaz   \n",
       "5   Photos2022    0.0  23168.0  31.12.2022   Michelle    Eigenmann   \n",
       "6   Photos2022    0.0  23167.0  31.12.2022       Beat    Freihofer   \n",
       "7   Photos2022    0.0  23166.0  30.12.2022       Lars        Meyer   \n",
       "8   Photos2022    0.0  23165.0  30.12.2022  Geraldine         Frey   \n",
       "9   Photos2022    0.0  23165.0  30.12.2022  Geraldine         Frey   \n",
       "10  Photos2022    0.0  23164.0  29.12.2022        Ulf     Schiller   \n",
       "11  Photos2022    0.0  23163.0  29.12.2022        Ulf     Schiller   \n",
       "12  Photos2022    0.0  23162.0  29.12.2022        Ulf     Schiller   \n",
       "13  Photos2022    0.0  23161.0  29.12.2022        Ulf     Schiller   \n",
       "14  Photos2022    0.0  23160.0  29.12.2022        Ulf     Schiller   \n",
       "15  Photos2022    0.0  23159.0  29.12.2022        Ulf     Schiller   \n",
       "16  Photos2022    0.0  23159.0  29.12.2022        Ulf     Schiller   \n",
       "17  Photos2022    0.0  23158.0  28.12.2022       Beat    Freihofer   \n",
       "18  Photos2022    0.0  23157.0  28.12.2022        Ulf     Schiller   \n",
       "19  Photos2022    0.0  23156.0  27.12.2022        Ulf     Schiller   \n",
       "\n",
       "          FILE NAME + PHOTOGRAPHER                   PRODUCTS   PRODUCTS_1  \\\n",
       "0     20220816_EM-Muenchen_0142+MS  (1)abo_high-res_free+0.00  (1)High-Res   \n",
       "1         20220521_S_Genf_12303+US     (1)abo_vereine_highres  (1)High-Res   \n",
       "2     20220819_EM-Muenchen_0077+MS     (1)abo_vereine_highres  (1)High-Res   \n",
       "3     20220819_EM-Muenchen_0084+MS     (1)abo_vereine_highres  (1)High-Res   \n",
       "4    20220819_EM-Muenchen_0115+BSP     (1)abo_vereine_highres  (1)High-Res   \n",
       "5    20220816_EM-Muenchen_0178+BSP  (1)abo_high-res_free+0.00  (1)High-Res   \n",
       "6                   CITIUS-5794+TL  (1)abo_high-res_free+0.00  (1)High-Res   \n",
       "7      20220624_S_Zuerich_17933+US  (1)abo_high-res_free+0.00  (1)High-Res   \n",
       "8                  SM_2022-7504+TL  (1)abo_high-res_free+0.00  (1)High-Res   \n",
       "9                  SM_2022-8437+TL  (1)abo_high-res_free+0.00  (1)High-Res   \n",
       "10  20220912_S_Bellinzona_07636+US  (1)abo_high-res_free+0.00  (1)High-Res   \n",
       "11      20220716_S_Eugene_22755+US  (1)abo_high-res_free+0.00  (1)High-Res   \n",
       "12      20220717_S_Eugene_23874+US  (1)abo_high-res_free+0.00  (1)High-Res   \n",
       "13      20220717_S_Eugene_23820+US  (1)abo_high-res_free+0.00  (1)High-Res   \n",
       "14      20220724_S_Eugene_02178+US  (1)abo_high-res_free+0.00  (1)High-Res   \n",
       "15      20220724_S_Eugene_02176+US  (1)abo_high-res_free+0.00  (1)High-Res   \n",
       "16    20220816_EM-Muenchen_0168+MS  (1)abo_high-res_free+0.00  (1)High-Res   \n",
       "17      20220719_S_Eugene_00521+US  (1)abo_high-res_free+0.00  (1)High-Res   \n",
       "18    20220819_EM-Muenchen_0028+MS  (1)abo_high-res_free+0.00  (1)High-Res   \n",
       "19    20220817_EM-Muenchen_0021+MS  (1)abo_high-res_free+0.00  (1)High-Res   \n",
       "\n",
       "                                            Gallery Column1  \n",
       "0     Europameisterschaften,München(15.-21.08.2022)     NaN  \n",
       "1                   SVM-FinalNLA,Genève(21.05.2022)     NaN  \n",
       "2     Europameisterschaften,München(15.-21.08.2022)     NaN  \n",
       "3     Europameisterschaften,München(15.-21.08.2022)     NaN  \n",
       "4     Europameisterschaften,München(15.-21.08.2022)     NaN  \n",
       "5     Europameisterschaften,München(15.-21.08.2022)     NaN  \n",
       "6                   CITIUS-Meeting,Bern(14.06.2022)     NaN  \n",
       "7   Schweizermeisterschaften,Zürich(24.-25.06.2022)     NaN  \n",
       "8   Schweizermeisterschaften,Zürich(24.-25.06.2022)     NaN  \n",
       "9   Schweizermeisterschaften,Zürich(24.-25.06.2022)     NaN  \n",
       "10           GalàdeiCastelli,Bellinzona(12.09.2022)     NaN  \n",
       "11       Weltmeisterschaften,Eugene(15.-24.07.2022)     NaN  \n",
       "12       Weltmeisterschaften,Eugene(15.-24.07.2022)     NaN  \n",
       "13       Weltmeisterschaften,Eugene(15.-24.07.2022)     NaN  \n",
       "14       Weltmeisterschaften,Eugene(15.-24.07.2022)     NaN  \n",
       "15       Weltmeisterschaften,Eugene(15.-24.07.2022)     NaN  \n",
       "16    Europameisterschaften,München(15.-21.08.2022)     NaN  \n",
       "17       Weltmeisterschaften,Eugene(15.-24.07.2022)     NaN  \n",
       "18    Europameisterschaften,München(15.-21.08.2022)     NaN  \n",
       "19    Europameisterschaften,München(15.-21.08.2022)     NaN  "
      ]
     },
     "execution_count": 20,
     "metadata": {},
     "output_type": "execute_result"
    }
   ],
   "source": [
    "#import the data and display the first 20 entries.\n",
    "df = pd.read_csv('2022 Products Athletix.csv',sep=';', engine='python')\n",
    "df.head(20)"
   ]
  },
  {
   "cell_type": "code",
   "execution_count": 21,
   "metadata": {
    "ExecuteTime": {
     "end_time": "2023-06-16T17:45:14.548258Z",
     "start_time": "2023-06-16T17:45:14.535259Z"
    }
   },
   "outputs": [
    {
     "data": {
      "text/plain": [
       "(18299, 4)"
      ]
     },
     "execution_count": 21,
     "metadata": {},
     "output_type": "execute_result"
    }
   ],
   "source": [
    "#Reduce dataframe to Price, First Name, Last Name and Products columns.\n",
    "df_products_reduced= df.drop(['Category', 'ORDER #', 'DATE', 'FILE NAME + PHOTOGRAPHER', 'PRODUCTS_1', 'Gallery', 'Column1'], axis=1)\n",
    "df_products_reduced.shape"
   ]
  },
  {
   "cell_type": "code",
   "execution_count": 22,
   "metadata": {
    "ExecuteTime": {
     "end_time": "2023-06-16T17:45:14.580257Z",
     "start_time": "2023-06-16T17:45:14.551258Z"
    }
   },
   "outputs": [
    {
     "data": {
      "text/html": [
       "<div>\n",
       "<style scoped>\n",
       "    .dataframe tbody tr th:only-of-type {\n",
       "        vertical-align: middle;\n",
       "    }\n",
       "\n",
       "    .dataframe tbody tr th {\n",
       "        vertical-align: top;\n",
       "    }\n",
       "\n",
       "    .dataframe thead th {\n",
       "        text-align: right;\n",
       "    }\n",
       "</style>\n",
       "<table border=\"1\" class=\"dataframe\">\n",
       "  <thead>\n",
       "    <tr style=\"text-align: right;\">\n",
       "      <th></th>\n",
       "      <th>Price</th>\n",
       "      <th>First Name</th>\n",
       "      <th>Last Name</th>\n",
       "      <th>PRODUCTS</th>\n",
       "    </tr>\n",
       "  </thead>\n",
       "  <tbody>\n",
       "    <tr>\n",
       "      <th>0</th>\n",
       "      <td>0.0</td>\n",
       "      <td>Ulf</td>\n",
       "      <td>Schiller</td>\n",
       "      <td>(1)abo_high-res_free+0.00</td>\n",
       "    </tr>\n",
       "    <tr>\n",
       "      <th>1</th>\n",
       "      <td>0.0</td>\n",
       "      <td>Marco</td>\n",
       "      <td>Aeschlimann</td>\n",
       "      <td>(1)abo_vereine_highres</td>\n",
       "    </tr>\n",
       "    <tr>\n",
       "      <th>2</th>\n",
       "      <td>0.0</td>\n",
       "      <td>Florian</td>\n",
       "      <td>Clivaz</td>\n",
       "      <td>(1)abo_vereine_highres</td>\n",
       "    </tr>\n",
       "    <tr>\n",
       "      <th>3</th>\n",
       "      <td>0.0</td>\n",
       "      <td>Florian</td>\n",
       "      <td>Clivaz</td>\n",
       "      <td>(1)abo_vereine_highres</td>\n",
       "    </tr>\n",
       "    <tr>\n",
       "      <th>4</th>\n",
       "      <td>0.0</td>\n",
       "      <td>Florian</td>\n",
       "      <td>Clivaz</td>\n",
       "      <td>(1)abo_vereine_highres</td>\n",
       "    </tr>\n",
       "    <tr>\n",
       "      <th>5</th>\n",
       "      <td>0.0</td>\n",
       "      <td>Michelle</td>\n",
       "      <td>Eigenmann</td>\n",
       "      <td>(1)abo_high-res_free+0.00</td>\n",
       "    </tr>\n",
       "    <tr>\n",
       "      <th>6</th>\n",
       "      <td>0.0</td>\n",
       "      <td>Beat</td>\n",
       "      <td>Freihofer</td>\n",
       "      <td>(1)abo_high-res_free+0.00</td>\n",
       "    </tr>\n",
       "    <tr>\n",
       "      <th>7</th>\n",
       "      <td>0.0</td>\n",
       "      <td>Lars</td>\n",
       "      <td>Meyer</td>\n",
       "      <td>(1)abo_high-res_free+0.00</td>\n",
       "    </tr>\n",
       "    <tr>\n",
       "      <th>8</th>\n",
       "      <td>0.0</td>\n",
       "      <td>Geraldine</td>\n",
       "      <td>Frey</td>\n",
       "      <td>(1)abo_high-res_free+0.00</td>\n",
       "    </tr>\n",
       "    <tr>\n",
       "      <th>9</th>\n",
       "      <td>0.0</td>\n",
       "      <td>Geraldine</td>\n",
       "      <td>Frey</td>\n",
       "      <td>(1)abo_high-res_free+0.00</td>\n",
       "    </tr>\n",
       "  </tbody>\n",
       "</table>\n",
       "</div>"
      ],
      "text/plain": [
       "   Price First Name    Last Name                   PRODUCTS\n",
       "0    0.0        Ulf     Schiller  (1)abo_high-res_free+0.00\n",
       "1    0.0      Marco  Aeschlimann     (1)abo_vereine_highres\n",
       "2    0.0    Florian       Clivaz     (1)abo_vereine_highres\n",
       "3    0.0    Florian       Clivaz     (1)abo_vereine_highres\n",
       "4    0.0    Florian       Clivaz     (1)abo_vereine_highres\n",
       "5    0.0   Michelle    Eigenmann  (1)abo_high-res_free+0.00\n",
       "6    0.0       Beat    Freihofer  (1)abo_high-res_free+0.00\n",
       "7    0.0       Lars        Meyer  (1)abo_high-res_free+0.00\n",
       "8    0.0  Geraldine         Frey  (1)abo_high-res_free+0.00\n",
       "9    0.0  Geraldine         Frey  (1)abo_high-res_free+0.00"
      ]
     },
     "execution_count": 22,
     "metadata": {},
     "output_type": "execute_result"
    }
   ],
   "source": [
    "#Show the first 10 entries of the new product dataframe.\n",
    "df_products_reduced.head(10)"
   ]
  },
  {
   "cell_type": "code",
   "execution_count": 23,
   "metadata": {
    "ExecuteTime": {
     "end_time": "2023-06-16T17:45:14.612255Z",
     "start_time": "2023-06-16T17:45:14.587258Z"
    }
   },
   "outputs": [
    {
     "data": {
      "text/plain": [
       "(2163, 4)"
      ]
     },
     "execution_count": 23,
     "metadata": {},
     "output_type": "execute_result"
    }
   ],
   "source": [
    "#Remove all entries that have not paid anything (PaymentAmount 0.0).\n",
    "df_products_reduced.drop(df_products_reduced.index[df_products_reduced.Price== 0.0], inplace=True)\n",
    "df_products_reduced.shape"
   ]
  },
  {
   "cell_type": "code",
   "execution_count": 24,
   "metadata": {
    "ExecuteTime": {
     "end_time": "2023-06-16T17:45:14.628255Z",
     "start_time": "2023-06-16T17:45:14.615256Z"
    }
   },
   "outputs": [
    {
     "data": {
      "text/html": [
       "<div>\n",
       "<style scoped>\n",
       "    .dataframe tbody tr th:only-of-type {\n",
       "        vertical-align: middle;\n",
       "    }\n",
       "\n",
       "    .dataframe tbody tr th {\n",
       "        vertical-align: top;\n",
       "    }\n",
       "\n",
       "    .dataframe thead th {\n",
       "        text-align: right;\n",
       "    }\n",
       "</style>\n",
       "<table border=\"1\" class=\"dataframe\">\n",
       "  <thead>\n",
       "    <tr style=\"text-align: right;\">\n",
       "      <th></th>\n",
       "      <th>Price</th>\n",
       "      <th>First Name</th>\n",
       "      <th>Last Name</th>\n",
       "      <th>PRODUCTS</th>\n",
       "    </tr>\n",
       "  </thead>\n",
       "  <tbody>\n",
       "    <tr>\n",
       "      <th>27</th>\n",
       "      <td>12.0</td>\n",
       "      <td>Lynn</td>\n",
       "      <td>Mantingh</td>\n",
       "      <td>(1)private_highres+14.00</td>\n",
       "    </tr>\n",
       "    <tr>\n",
       "      <th>29</th>\n",
       "      <td>5.0</td>\n",
       "      <td>Jamal</td>\n",
       "      <td>Rhoden-Stevens</td>\n",
       "      <td>(1)private_socialmedia+6.00</td>\n",
       "    </tr>\n",
       "    <tr>\n",
       "      <th>75</th>\n",
       "      <td>5.0</td>\n",
       "      <td>Marina</td>\n",
       "      <td>Müller</td>\n",
       "      <td>(1)private_socialmedia+6.00</td>\n",
       "    </tr>\n",
       "    <tr>\n",
       "      <th>76</th>\n",
       "      <td>5.0</td>\n",
       "      <td>Marina</td>\n",
       "      <td>Müller</td>\n",
       "      <td>(1)private_socialmedia+6.00</td>\n",
       "    </tr>\n",
       "    <tr>\n",
       "      <th>77</th>\n",
       "      <td>5.0</td>\n",
       "      <td>Marina</td>\n",
       "      <td>Müller</td>\n",
       "      <td>(1)private_socialmedia+6.00</td>\n",
       "    </tr>\n",
       "    <tr>\n",
       "      <th>100</th>\n",
       "      <td>5.0</td>\n",
       "      <td>Monika</td>\n",
       "      <td>vonFlüe</td>\n",
       "      <td>(1)private_socialmedia+6.00</td>\n",
       "    </tr>\n",
       "    <tr>\n",
       "      <th>101</th>\n",
       "      <td>5.0</td>\n",
       "      <td>Monika</td>\n",
       "      <td>vonFlüe</td>\n",
       "      <td>(1)private_socialmedia+6.00</td>\n",
       "    </tr>\n",
       "    <tr>\n",
       "      <th>104</th>\n",
       "      <td>12.0</td>\n",
       "      <td>Schmutz</td>\n",
       "      <td>Patrick</td>\n",
       "      <td>(1)private_highres+14.00</td>\n",
       "    </tr>\n",
       "    <tr>\n",
       "      <th>173</th>\n",
       "      <td>12.0</td>\n",
       "      <td>Karin</td>\n",
       "      <td>Iadarola</td>\n",
       "      <td>(1)private_highres+14.00</td>\n",
       "    </tr>\n",
       "    <tr>\n",
       "      <th>175</th>\n",
       "      <td>5.0</td>\n",
       "      <td>Keanu</td>\n",
       "      <td>Simasotchi</td>\n",
       "      <td>(1)private_socialmedia+6.00</td>\n",
       "    </tr>\n",
       "  </tbody>\n",
       "</table>\n",
       "</div>"
      ],
      "text/plain": [
       "     Price First Name       Last Name                     PRODUCTS\n",
       "27    12.0       Lynn        Mantingh     (1)private_highres+14.00\n",
       "29     5.0      Jamal  Rhoden-Stevens  (1)private_socialmedia+6.00\n",
       "75     5.0     Marina          Müller  (1)private_socialmedia+6.00\n",
       "76     5.0     Marina          Müller  (1)private_socialmedia+6.00\n",
       "77     5.0     Marina          Müller  (1)private_socialmedia+6.00\n",
       "100    5.0     Monika         vonFlüe  (1)private_socialmedia+6.00\n",
       "101    5.0     Monika         vonFlüe  (1)private_socialmedia+6.00\n",
       "104   12.0    Schmutz         Patrick     (1)private_highres+14.00\n",
       "173   12.0      Karin        Iadarola     (1)private_highres+14.00\n",
       "175    5.0      Keanu      Simasotchi  (1)private_socialmedia+6.00"
      ]
     },
     "execution_count": 24,
     "metadata": {},
     "output_type": "execute_result"
    }
   ],
   "source": [
    "df_products_reduced.head(10)"
   ]
  },
  {
   "cell_type": "markdown",
   "metadata": {},
   "source": [
    "## Payment Amount per Product Quality Category"
   ]
  },
  {
   "cell_type": "markdown",
   "metadata": {},
   "source": [
    "### Collect data - Data preprocessing"
   ]
  },
  {
   "cell_type": "code",
   "execution_count": 25,
   "metadata": {
    "ExecuteTime": {
     "end_time": "2023-06-16T17:45:14.910245Z",
     "start_time": "2023-06-16T17:45:14.630255Z"
    }
   },
   "outputs": [
    {
     "data": {
      "text/html": [
       "<div>\n",
       "<style scoped>\n",
       "    .dataframe tbody tr th:only-of-type {\n",
       "        vertical-align: middle;\n",
       "    }\n",
       "\n",
       "    .dataframe tbody tr th {\n",
       "        vertical-align: top;\n",
       "    }\n",
       "\n",
       "    .dataframe thead th {\n",
       "        text-align: right;\n",
       "    }\n",
       "</style>\n",
       "<table border=\"1\" class=\"dataframe\">\n",
       "  <thead>\n",
       "    <tr style=\"text-align: right;\">\n",
       "      <th></th>\n",
       "      <th>Category</th>\n",
       "      <th>Price</th>\n",
       "      <th>ORDER #</th>\n",
       "      <th>DATE</th>\n",
       "      <th>First Name</th>\n",
       "      <th>Last Name</th>\n",
       "      <th>FILE NAME + PHOTOGRAPHER</th>\n",
       "      <th>PRODUCTS</th>\n",
       "      <th>PRODUCTS_1</th>\n",
       "      <th>Gallery</th>\n",
       "      <th>Column1</th>\n",
       "    </tr>\n",
       "  </thead>\n",
       "  <tbody>\n",
       "    <tr>\n",
       "      <th>0</th>\n",
       "      <td>Photos2022</td>\n",
       "      <td>0.0</td>\n",
       "      <td>23171.0</td>\n",
       "      <td>31.12.2022</td>\n",
       "      <td>Ulf</td>\n",
       "      <td>Schiller</td>\n",
       "      <td>20220816_EM-Muenchen_0142+MS</td>\n",
       "      <td>(1)abo_high-res_free+0.00</td>\n",
       "      <td>(1)High-Res</td>\n",
       "      <td>Europameisterschaften,München(15.-21.08.2022)</td>\n",
       "      <td>NaN</td>\n",
       "    </tr>\n",
       "    <tr>\n",
       "      <th>1</th>\n",
       "      <td>Photos2022</td>\n",
       "      <td>0.0</td>\n",
       "      <td>23170.0</td>\n",
       "      <td>31.12.2022</td>\n",
       "      <td>Marco</td>\n",
       "      <td>Aeschlimann</td>\n",
       "      <td>20220521_S_Genf_12303+US</td>\n",
       "      <td>(1)abo_vereine_highres</td>\n",
       "      <td>(1)High-Res</td>\n",
       "      <td>SVM-FinalNLA,Genève(21.05.2022)</td>\n",
       "      <td>NaN</td>\n",
       "    </tr>\n",
       "    <tr>\n",
       "      <th>2</th>\n",
       "      <td>Photos2022</td>\n",
       "      <td>0.0</td>\n",
       "      <td>23169.0</td>\n",
       "      <td>31.12.2022</td>\n",
       "      <td>Florian</td>\n",
       "      <td>Clivaz</td>\n",
       "      <td>20220819_EM-Muenchen_0077+MS</td>\n",
       "      <td>(1)abo_vereine_highres</td>\n",
       "      <td>(1)High-Res</td>\n",
       "      <td>Europameisterschaften,München(15.-21.08.2022)</td>\n",
       "      <td>NaN</td>\n",
       "    </tr>\n",
       "    <tr>\n",
       "      <th>3</th>\n",
       "      <td>Photos2022</td>\n",
       "      <td>0.0</td>\n",
       "      <td>23169.0</td>\n",
       "      <td>31.12.2022</td>\n",
       "      <td>Florian</td>\n",
       "      <td>Clivaz</td>\n",
       "      <td>20220819_EM-Muenchen_0084+MS</td>\n",
       "      <td>(1)abo_vereine_highres</td>\n",
       "      <td>(1)High-Res</td>\n",
       "      <td>Europameisterschaften,München(15.-21.08.2022)</td>\n",
       "      <td>NaN</td>\n",
       "    </tr>\n",
       "    <tr>\n",
       "      <th>4</th>\n",
       "      <td>Photos2022</td>\n",
       "      <td>0.0</td>\n",
       "      <td>23169.0</td>\n",
       "      <td>31.12.2022</td>\n",
       "      <td>Florian</td>\n",
       "      <td>Clivaz</td>\n",
       "      <td>20220819_EM-Muenchen_0115+BSP</td>\n",
       "      <td>(1)abo_vereine_highres</td>\n",
       "      <td>(1)High-Res</td>\n",
       "      <td>Europameisterschaften,München(15.-21.08.2022)</td>\n",
       "      <td>NaN</td>\n",
       "    </tr>\n",
       "    <tr>\n",
       "      <th>5</th>\n",
       "      <td>Photos2022</td>\n",
       "      <td>0.0</td>\n",
       "      <td>23168.0</td>\n",
       "      <td>31.12.2022</td>\n",
       "      <td>Michelle</td>\n",
       "      <td>Eigenmann</td>\n",
       "      <td>20220816_EM-Muenchen_0178+BSP</td>\n",
       "      <td>(1)abo_high-res_free+0.00</td>\n",
       "      <td>(1)High-Res</td>\n",
       "      <td>Europameisterschaften,München(15.-21.08.2022)</td>\n",
       "      <td>NaN</td>\n",
       "    </tr>\n",
       "    <tr>\n",
       "      <th>6</th>\n",
       "      <td>Photos2022</td>\n",
       "      <td>0.0</td>\n",
       "      <td>23167.0</td>\n",
       "      <td>31.12.2022</td>\n",
       "      <td>Beat</td>\n",
       "      <td>Freihofer</td>\n",
       "      <td>CITIUS-5794+TL</td>\n",
       "      <td>(1)abo_high-res_free+0.00</td>\n",
       "      <td>(1)High-Res</td>\n",
       "      <td>CITIUS-Meeting,Bern(14.06.2022)</td>\n",
       "      <td>NaN</td>\n",
       "    </tr>\n",
       "    <tr>\n",
       "      <th>7</th>\n",
       "      <td>Photos2022</td>\n",
       "      <td>0.0</td>\n",
       "      <td>23166.0</td>\n",
       "      <td>30.12.2022</td>\n",
       "      <td>Lars</td>\n",
       "      <td>Meyer</td>\n",
       "      <td>20220624_S_Zuerich_17933+US</td>\n",
       "      <td>(1)abo_high-res_free+0.00</td>\n",
       "      <td>(1)High-Res</td>\n",
       "      <td>Schweizermeisterschaften,Zürich(24.-25.06.2022)</td>\n",
       "      <td>NaN</td>\n",
       "    </tr>\n",
       "    <tr>\n",
       "      <th>8</th>\n",
       "      <td>Photos2022</td>\n",
       "      <td>0.0</td>\n",
       "      <td>23165.0</td>\n",
       "      <td>30.12.2022</td>\n",
       "      <td>Geraldine</td>\n",
       "      <td>Frey</td>\n",
       "      <td>SM_2022-7504+TL</td>\n",
       "      <td>(1)abo_high-res_free+0.00</td>\n",
       "      <td>(1)High-Res</td>\n",
       "      <td>Schweizermeisterschaften,Zürich(24.-25.06.2022)</td>\n",
       "      <td>NaN</td>\n",
       "    </tr>\n",
       "    <tr>\n",
       "      <th>9</th>\n",
       "      <td>Photos2022</td>\n",
       "      <td>0.0</td>\n",
       "      <td>23165.0</td>\n",
       "      <td>30.12.2022</td>\n",
       "      <td>Geraldine</td>\n",
       "      <td>Frey</td>\n",
       "      <td>SM_2022-8437+TL</td>\n",
       "      <td>(1)abo_high-res_free+0.00</td>\n",
       "      <td>(1)High-Res</td>\n",
       "      <td>Schweizermeisterschaften,Zürich(24.-25.06.2022)</td>\n",
       "      <td>NaN</td>\n",
       "    </tr>\n",
       "    <tr>\n",
       "      <th>10</th>\n",
       "      <td>Photos2022</td>\n",
       "      <td>0.0</td>\n",
       "      <td>23164.0</td>\n",
       "      <td>29.12.2022</td>\n",
       "      <td>Ulf</td>\n",
       "      <td>Schiller</td>\n",
       "      <td>20220912_S_Bellinzona_07636+US</td>\n",
       "      <td>(1)abo_high-res_free+0.00</td>\n",
       "      <td>(1)High-Res</td>\n",
       "      <td>GalàdeiCastelli,Bellinzona(12.09.2022)</td>\n",
       "      <td>NaN</td>\n",
       "    </tr>\n",
       "    <tr>\n",
       "      <th>11</th>\n",
       "      <td>Photos2022</td>\n",
       "      <td>0.0</td>\n",
       "      <td>23163.0</td>\n",
       "      <td>29.12.2022</td>\n",
       "      <td>Ulf</td>\n",
       "      <td>Schiller</td>\n",
       "      <td>20220716_S_Eugene_22755+US</td>\n",
       "      <td>(1)abo_high-res_free+0.00</td>\n",
       "      <td>(1)High-Res</td>\n",
       "      <td>Weltmeisterschaften,Eugene(15.-24.07.2022)</td>\n",
       "      <td>NaN</td>\n",
       "    </tr>\n",
       "    <tr>\n",
       "      <th>12</th>\n",
       "      <td>Photos2022</td>\n",
       "      <td>0.0</td>\n",
       "      <td>23162.0</td>\n",
       "      <td>29.12.2022</td>\n",
       "      <td>Ulf</td>\n",
       "      <td>Schiller</td>\n",
       "      <td>20220717_S_Eugene_23874+US</td>\n",
       "      <td>(1)abo_high-res_free+0.00</td>\n",
       "      <td>(1)High-Res</td>\n",
       "      <td>Weltmeisterschaften,Eugene(15.-24.07.2022)</td>\n",
       "      <td>NaN</td>\n",
       "    </tr>\n",
       "    <tr>\n",
       "      <th>13</th>\n",
       "      <td>Photos2022</td>\n",
       "      <td>0.0</td>\n",
       "      <td>23161.0</td>\n",
       "      <td>29.12.2022</td>\n",
       "      <td>Ulf</td>\n",
       "      <td>Schiller</td>\n",
       "      <td>20220717_S_Eugene_23820+US</td>\n",
       "      <td>(1)abo_high-res_free+0.00</td>\n",
       "      <td>(1)High-Res</td>\n",
       "      <td>Weltmeisterschaften,Eugene(15.-24.07.2022)</td>\n",
       "      <td>NaN</td>\n",
       "    </tr>\n",
       "    <tr>\n",
       "      <th>14</th>\n",
       "      <td>Photos2022</td>\n",
       "      <td>0.0</td>\n",
       "      <td>23160.0</td>\n",
       "      <td>29.12.2022</td>\n",
       "      <td>Ulf</td>\n",
       "      <td>Schiller</td>\n",
       "      <td>20220724_S_Eugene_02178+US</td>\n",
       "      <td>(1)abo_high-res_free+0.00</td>\n",
       "      <td>(1)High-Res</td>\n",
       "      <td>Weltmeisterschaften,Eugene(15.-24.07.2022)</td>\n",
       "      <td>NaN</td>\n",
       "    </tr>\n",
       "    <tr>\n",
       "      <th>15</th>\n",
       "      <td>Photos2022</td>\n",
       "      <td>0.0</td>\n",
       "      <td>23159.0</td>\n",
       "      <td>29.12.2022</td>\n",
       "      <td>Ulf</td>\n",
       "      <td>Schiller</td>\n",
       "      <td>20220724_S_Eugene_02176+US</td>\n",
       "      <td>(1)abo_high-res_free+0.00</td>\n",
       "      <td>(1)High-Res</td>\n",
       "      <td>Weltmeisterschaften,Eugene(15.-24.07.2022)</td>\n",
       "      <td>NaN</td>\n",
       "    </tr>\n",
       "    <tr>\n",
       "      <th>16</th>\n",
       "      <td>Photos2022</td>\n",
       "      <td>0.0</td>\n",
       "      <td>23159.0</td>\n",
       "      <td>29.12.2022</td>\n",
       "      <td>Ulf</td>\n",
       "      <td>Schiller</td>\n",
       "      <td>20220816_EM-Muenchen_0168+MS</td>\n",
       "      <td>(1)abo_high-res_free+0.00</td>\n",
       "      <td>(1)High-Res</td>\n",
       "      <td>Europameisterschaften,München(15.-21.08.2022)</td>\n",
       "      <td>NaN</td>\n",
       "    </tr>\n",
       "    <tr>\n",
       "      <th>17</th>\n",
       "      <td>Photos2022</td>\n",
       "      <td>0.0</td>\n",
       "      <td>23158.0</td>\n",
       "      <td>28.12.2022</td>\n",
       "      <td>Beat</td>\n",
       "      <td>Freihofer</td>\n",
       "      <td>20220719_S_Eugene_00521+US</td>\n",
       "      <td>(1)abo_high-res_free+0.00</td>\n",
       "      <td>(1)High-Res</td>\n",
       "      <td>Weltmeisterschaften,Eugene(15.-24.07.2022)</td>\n",
       "      <td>NaN</td>\n",
       "    </tr>\n",
       "    <tr>\n",
       "      <th>18</th>\n",
       "      <td>Photos2022</td>\n",
       "      <td>0.0</td>\n",
       "      <td>23157.0</td>\n",
       "      <td>28.12.2022</td>\n",
       "      <td>Ulf</td>\n",
       "      <td>Schiller</td>\n",
       "      <td>20220819_EM-Muenchen_0028+MS</td>\n",
       "      <td>(1)abo_high-res_free+0.00</td>\n",
       "      <td>(1)High-Res</td>\n",
       "      <td>Europameisterschaften,München(15.-21.08.2022)</td>\n",
       "      <td>NaN</td>\n",
       "    </tr>\n",
       "    <tr>\n",
       "      <th>19</th>\n",
       "      <td>Photos2022</td>\n",
       "      <td>0.0</td>\n",
       "      <td>23156.0</td>\n",
       "      <td>27.12.2022</td>\n",
       "      <td>Ulf</td>\n",
       "      <td>Schiller</td>\n",
       "      <td>20220817_EM-Muenchen_0021+MS</td>\n",
       "      <td>(1)abo_high-res_free+0.00</td>\n",
       "      <td>(1)High-Res</td>\n",
       "      <td>Europameisterschaften,München(15.-21.08.2022)</td>\n",
       "      <td>NaN</td>\n",
       "    </tr>\n",
       "  </tbody>\n",
       "</table>\n",
       "</div>"
      ],
      "text/plain": [
       "      Category  Price  ORDER #        DATE First Name    Last Name  \\\n",
       "0   Photos2022    0.0  23171.0  31.12.2022        Ulf     Schiller   \n",
       "1   Photos2022    0.0  23170.0  31.12.2022      Marco  Aeschlimann   \n",
       "2   Photos2022    0.0  23169.0  31.12.2022    Florian       Clivaz   \n",
       "3   Photos2022    0.0  23169.0  31.12.2022    Florian       Clivaz   \n",
       "4   Photos2022    0.0  23169.0  31.12.2022    Florian       Clivaz   \n",
       "5   Photos2022    0.0  23168.0  31.12.2022   Michelle    Eigenmann   \n",
       "6   Photos2022    0.0  23167.0  31.12.2022       Beat    Freihofer   \n",
       "7   Photos2022    0.0  23166.0  30.12.2022       Lars        Meyer   \n",
       "8   Photos2022    0.0  23165.0  30.12.2022  Geraldine         Frey   \n",
       "9   Photos2022    0.0  23165.0  30.12.2022  Geraldine         Frey   \n",
       "10  Photos2022    0.0  23164.0  29.12.2022        Ulf     Schiller   \n",
       "11  Photos2022    0.0  23163.0  29.12.2022        Ulf     Schiller   \n",
       "12  Photos2022    0.0  23162.0  29.12.2022        Ulf     Schiller   \n",
       "13  Photos2022    0.0  23161.0  29.12.2022        Ulf     Schiller   \n",
       "14  Photos2022    0.0  23160.0  29.12.2022        Ulf     Schiller   \n",
       "15  Photos2022    0.0  23159.0  29.12.2022        Ulf     Schiller   \n",
       "16  Photos2022    0.0  23159.0  29.12.2022        Ulf     Schiller   \n",
       "17  Photos2022    0.0  23158.0  28.12.2022       Beat    Freihofer   \n",
       "18  Photos2022    0.0  23157.0  28.12.2022        Ulf     Schiller   \n",
       "19  Photos2022    0.0  23156.0  27.12.2022        Ulf     Schiller   \n",
       "\n",
       "          FILE NAME + PHOTOGRAPHER                   PRODUCTS   PRODUCTS_1  \\\n",
       "0     20220816_EM-Muenchen_0142+MS  (1)abo_high-res_free+0.00  (1)High-Res   \n",
       "1         20220521_S_Genf_12303+US     (1)abo_vereine_highres  (1)High-Res   \n",
       "2     20220819_EM-Muenchen_0077+MS     (1)abo_vereine_highres  (1)High-Res   \n",
       "3     20220819_EM-Muenchen_0084+MS     (1)abo_vereine_highres  (1)High-Res   \n",
       "4    20220819_EM-Muenchen_0115+BSP     (1)abo_vereine_highres  (1)High-Res   \n",
       "5    20220816_EM-Muenchen_0178+BSP  (1)abo_high-res_free+0.00  (1)High-Res   \n",
       "6                   CITIUS-5794+TL  (1)abo_high-res_free+0.00  (1)High-Res   \n",
       "7      20220624_S_Zuerich_17933+US  (1)abo_high-res_free+0.00  (1)High-Res   \n",
       "8                  SM_2022-7504+TL  (1)abo_high-res_free+0.00  (1)High-Res   \n",
       "9                  SM_2022-8437+TL  (1)abo_high-res_free+0.00  (1)High-Res   \n",
       "10  20220912_S_Bellinzona_07636+US  (1)abo_high-res_free+0.00  (1)High-Res   \n",
       "11      20220716_S_Eugene_22755+US  (1)abo_high-res_free+0.00  (1)High-Res   \n",
       "12      20220717_S_Eugene_23874+US  (1)abo_high-res_free+0.00  (1)High-Res   \n",
       "13      20220717_S_Eugene_23820+US  (1)abo_high-res_free+0.00  (1)High-Res   \n",
       "14      20220724_S_Eugene_02178+US  (1)abo_high-res_free+0.00  (1)High-Res   \n",
       "15      20220724_S_Eugene_02176+US  (1)abo_high-res_free+0.00  (1)High-Res   \n",
       "16    20220816_EM-Muenchen_0168+MS  (1)abo_high-res_free+0.00  (1)High-Res   \n",
       "17      20220719_S_Eugene_00521+US  (1)abo_high-res_free+0.00  (1)High-Res   \n",
       "18    20220819_EM-Muenchen_0028+MS  (1)abo_high-res_free+0.00  (1)High-Res   \n",
       "19    20220817_EM-Muenchen_0021+MS  (1)abo_high-res_free+0.00  (1)High-Res   \n",
       "\n",
       "                                            Gallery Column1  \n",
       "0     Europameisterschaften,München(15.-21.08.2022)     NaN  \n",
       "1                   SVM-FinalNLA,Genève(21.05.2022)     NaN  \n",
       "2     Europameisterschaften,München(15.-21.08.2022)     NaN  \n",
       "3     Europameisterschaften,München(15.-21.08.2022)     NaN  \n",
       "4     Europameisterschaften,München(15.-21.08.2022)     NaN  \n",
       "5     Europameisterschaften,München(15.-21.08.2022)     NaN  \n",
       "6                   CITIUS-Meeting,Bern(14.06.2022)     NaN  \n",
       "7   Schweizermeisterschaften,Zürich(24.-25.06.2022)     NaN  \n",
       "8   Schweizermeisterschaften,Zürich(24.-25.06.2022)     NaN  \n",
       "9   Schweizermeisterschaften,Zürich(24.-25.06.2022)     NaN  \n",
       "10           GalàdeiCastelli,Bellinzona(12.09.2022)     NaN  \n",
       "11       Weltmeisterschaften,Eugene(15.-24.07.2022)     NaN  \n",
       "12       Weltmeisterschaften,Eugene(15.-24.07.2022)     NaN  \n",
       "13       Weltmeisterschaften,Eugene(15.-24.07.2022)     NaN  \n",
       "14       Weltmeisterschaften,Eugene(15.-24.07.2022)     NaN  \n",
       "15       Weltmeisterschaften,Eugene(15.-24.07.2022)     NaN  \n",
       "16    Europameisterschaften,München(15.-21.08.2022)     NaN  \n",
       "17       Weltmeisterschaften,Eugene(15.-24.07.2022)     NaN  \n",
       "18    Europameisterschaften,München(15.-21.08.2022)     NaN  \n",
       "19    Europameisterschaften,München(15.-21.08.2022)     NaN  "
      ]
     },
     "execution_count": 25,
     "metadata": {},
     "output_type": "execute_result"
    }
   ],
   "source": [
    "#import the data and display the first 20 entries.\n",
    "df = pd.read_csv('2022 Products Athletix.csv',sep=';', engine='python')\n",
    "df.head(20)"
   ]
  },
  {
   "cell_type": "code",
   "execution_count": 26,
   "metadata": {
    "ExecuteTime": {
     "end_time": "2023-06-16T17:45:14.925245Z",
     "start_time": "2023-06-16T17:45:14.912247Z"
    }
   },
   "outputs": [
    {
     "data": {
      "text/plain": [
       "(18299, 4)"
      ]
     },
     "execution_count": 26,
     "metadata": {},
     "output_type": "execute_result"
    }
   ],
   "source": [
    "#Reduce dataframe to Price, First Name, Last Name and Product category columns.\n",
    "df_product_category_reduced= df.drop(['Category', 'ORDER #', 'DATE', 'FILE NAME + PHOTOGRAPHER', 'PRODUCTS', 'Gallery', 'Column1'], axis=1)\n",
    "df_product_category_reduced.shape"
   ]
  },
  {
   "cell_type": "code",
   "execution_count": 27,
   "metadata": {
    "ExecuteTime": {
     "end_time": "2023-06-16T17:45:14.955244Z",
     "start_time": "2023-06-16T17:45:14.927246Z"
    }
   },
   "outputs": [
    {
     "data": {
      "text/html": [
       "<div>\n",
       "<style scoped>\n",
       "    .dataframe tbody tr th:only-of-type {\n",
       "        vertical-align: middle;\n",
       "    }\n",
       "\n",
       "    .dataframe tbody tr th {\n",
       "        vertical-align: top;\n",
       "    }\n",
       "\n",
       "    .dataframe thead th {\n",
       "        text-align: right;\n",
       "    }\n",
       "</style>\n",
       "<table border=\"1\" class=\"dataframe\">\n",
       "  <thead>\n",
       "    <tr style=\"text-align: right;\">\n",
       "      <th></th>\n",
       "      <th>Price</th>\n",
       "      <th>First Name</th>\n",
       "      <th>Last Name</th>\n",
       "      <th>PRODUCTS_1</th>\n",
       "    </tr>\n",
       "  </thead>\n",
       "  <tbody>\n",
       "    <tr>\n",
       "      <th>0</th>\n",
       "      <td>0.0</td>\n",
       "      <td>Ulf</td>\n",
       "      <td>Schiller</td>\n",
       "      <td>(1)High-Res</td>\n",
       "    </tr>\n",
       "    <tr>\n",
       "      <th>1</th>\n",
       "      <td>0.0</td>\n",
       "      <td>Marco</td>\n",
       "      <td>Aeschlimann</td>\n",
       "      <td>(1)High-Res</td>\n",
       "    </tr>\n",
       "    <tr>\n",
       "      <th>2</th>\n",
       "      <td>0.0</td>\n",
       "      <td>Florian</td>\n",
       "      <td>Clivaz</td>\n",
       "      <td>(1)High-Res</td>\n",
       "    </tr>\n",
       "    <tr>\n",
       "      <th>3</th>\n",
       "      <td>0.0</td>\n",
       "      <td>Florian</td>\n",
       "      <td>Clivaz</td>\n",
       "      <td>(1)High-Res</td>\n",
       "    </tr>\n",
       "    <tr>\n",
       "      <th>4</th>\n",
       "      <td>0.0</td>\n",
       "      <td>Florian</td>\n",
       "      <td>Clivaz</td>\n",
       "      <td>(1)High-Res</td>\n",
       "    </tr>\n",
       "    <tr>\n",
       "      <th>5</th>\n",
       "      <td>0.0</td>\n",
       "      <td>Michelle</td>\n",
       "      <td>Eigenmann</td>\n",
       "      <td>(1)High-Res</td>\n",
       "    </tr>\n",
       "    <tr>\n",
       "      <th>6</th>\n",
       "      <td>0.0</td>\n",
       "      <td>Beat</td>\n",
       "      <td>Freihofer</td>\n",
       "      <td>(1)High-Res</td>\n",
       "    </tr>\n",
       "    <tr>\n",
       "      <th>7</th>\n",
       "      <td>0.0</td>\n",
       "      <td>Lars</td>\n",
       "      <td>Meyer</td>\n",
       "      <td>(1)High-Res</td>\n",
       "    </tr>\n",
       "    <tr>\n",
       "      <th>8</th>\n",
       "      <td>0.0</td>\n",
       "      <td>Geraldine</td>\n",
       "      <td>Frey</td>\n",
       "      <td>(1)High-Res</td>\n",
       "    </tr>\n",
       "    <tr>\n",
       "      <th>9</th>\n",
       "      <td>0.0</td>\n",
       "      <td>Geraldine</td>\n",
       "      <td>Frey</td>\n",
       "      <td>(1)High-Res</td>\n",
       "    </tr>\n",
       "  </tbody>\n",
       "</table>\n",
       "</div>"
      ],
      "text/plain": [
       "   Price First Name    Last Name   PRODUCTS_1\n",
       "0    0.0        Ulf     Schiller  (1)High-Res\n",
       "1    0.0      Marco  Aeschlimann  (1)High-Res\n",
       "2    0.0    Florian       Clivaz  (1)High-Res\n",
       "3    0.0    Florian       Clivaz  (1)High-Res\n",
       "4    0.0    Florian       Clivaz  (1)High-Res\n",
       "5    0.0   Michelle    Eigenmann  (1)High-Res\n",
       "6    0.0       Beat    Freihofer  (1)High-Res\n",
       "7    0.0       Lars        Meyer  (1)High-Res\n",
       "8    0.0  Geraldine         Frey  (1)High-Res\n",
       "9    0.0  Geraldine         Frey  (1)High-Res"
      ]
     },
     "execution_count": 27,
     "metadata": {},
     "output_type": "execute_result"
    }
   ],
   "source": [
    "#Show the first 10 entries of the new product category dataframe.\n",
    "df_product_category_reduced.head(10)"
   ]
  },
  {
   "cell_type": "code",
   "execution_count": 28,
   "metadata": {
    "ExecuteTime": {
     "end_time": "2023-06-16T17:45:14.971244Z",
     "start_time": "2023-06-16T17:45:14.958244Z"
    }
   },
   "outputs": [
    {
     "data": {
      "text/plain": [
       "(2163, 4)"
      ]
     },
     "execution_count": 28,
     "metadata": {},
     "output_type": "execute_result"
    }
   ],
   "source": [
    "#Remove all entries that have not paid anything (PaymentAmount 0.0).\n",
    "df_product_category_reduced.drop(df_product_category_reduced.index[df_product_category_reduced.Price== 0.0], inplace=True)\n",
    "df_product_category_reduced.shape"
   ]
  },
  {
   "cell_type": "code",
   "execution_count": 29,
   "metadata": {
    "ExecuteTime": {
     "end_time": "2023-06-16T17:45:15.001243Z",
     "start_time": "2023-06-16T17:45:14.973244Z"
    }
   },
   "outputs": [
    {
     "data": {
      "text/html": [
       "<div>\n",
       "<style scoped>\n",
       "    .dataframe tbody tr th:only-of-type {\n",
       "        vertical-align: middle;\n",
       "    }\n",
       "\n",
       "    .dataframe tbody tr th {\n",
       "        vertical-align: top;\n",
       "    }\n",
       "\n",
       "    .dataframe thead th {\n",
       "        text-align: right;\n",
       "    }\n",
       "</style>\n",
       "<table border=\"1\" class=\"dataframe\">\n",
       "  <thead>\n",
       "    <tr style=\"text-align: right;\">\n",
       "      <th></th>\n",
       "      <th>Price</th>\n",
       "      <th>First Name</th>\n",
       "      <th>Last Name</th>\n",
       "      <th>PRODUCTS_1</th>\n",
       "    </tr>\n",
       "  </thead>\n",
       "  <tbody>\n",
       "    <tr>\n",
       "      <th>27</th>\n",
       "      <td>12.0</td>\n",
       "      <td>Lynn</td>\n",
       "      <td>Mantingh</td>\n",
       "      <td>(1)High-Res</td>\n",
       "    </tr>\n",
       "    <tr>\n",
       "      <th>29</th>\n",
       "      <td>5.0</td>\n",
       "      <td>Jamal</td>\n",
       "      <td>Rhoden-Stevens</td>\n",
       "      <td>(1)SocialMedia</td>\n",
       "    </tr>\n",
       "    <tr>\n",
       "      <th>75</th>\n",
       "      <td>5.0</td>\n",
       "      <td>Marina</td>\n",
       "      <td>Müller</td>\n",
       "      <td>(1)SocialMedia</td>\n",
       "    </tr>\n",
       "    <tr>\n",
       "      <th>76</th>\n",
       "      <td>5.0</td>\n",
       "      <td>Marina</td>\n",
       "      <td>Müller</td>\n",
       "      <td>(1)SocialMedia</td>\n",
       "    </tr>\n",
       "    <tr>\n",
       "      <th>77</th>\n",
       "      <td>5.0</td>\n",
       "      <td>Marina</td>\n",
       "      <td>Müller</td>\n",
       "      <td>(1)SocialMedia</td>\n",
       "    </tr>\n",
       "    <tr>\n",
       "      <th>100</th>\n",
       "      <td>5.0</td>\n",
       "      <td>Monika</td>\n",
       "      <td>vonFlüe</td>\n",
       "      <td>(1)SocialMedia</td>\n",
       "    </tr>\n",
       "    <tr>\n",
       "      <th>101</th>\n",
       "      <td>5.0</td>\n",
       "      <td>Monika</td>\n",
       "      <td>vonFlüe</td>\n",
       "      <td>(1)SocialMedia</td>\n",
       "    </tr>\n",
       "    <tr>\n",
       "      <th>104</th>\n",
       "      <td>12.0</td>\n",
       "      <td>Schmutz</td>\n",
       "      <td>Patrick</td>\n",
       "      <td>(1)High-Res</td>\n",
       "    </tr>\n",
       "    <tr>\n",
       "      <th>173</th>\n",
       "      <td>12.0</td>\n",
       "      <td>Karin</td>\n",
       "      <td>Iadarola</td>\n",
       "      <td>(1)High-Res</td>\n",
       "    </tr>\n",
       "    <tr>\n",
       "      <th>175</th>\n",
       "      <td>5.0</td>\n",
       "      <td>Keanu</td>\n",
       "      <td>Simasotchi</td>\n",
       "      <td>(1)SocialMedia</td>\n",
       "    </tr>\n",
       "  </tbody>\n",
       "</table>\n",
       "</div>"
      ],
      "text/plain": [
       "     Price First Name       Last Name      PRODUCTS_1\n",
       "27    12.0       Lynn        Mantingh     (1)High-Res\n",
       "29     5.0      Jamal  Rhoden-Stevens  (1)SocialMedia\n",
       "75     5.0     Marina          Müller  (1)SocialMedia\n",
       "76     5.0     Marina          Müller  (1)SocialMedia\n",
       "77     5.0     Marina          Müller  (1)SocialMedia\n",
       "100    5.0     Monika         vonFlüe  (1)SocialMedia\n",
       "101    5.0     Monika         vonFlüe  (1)SocialMedia\n",
       "104   12.0    Schmutz         Patrick     (1)High-Res\n",
       "173   12.0      Karin        Iadarola     (1)High-Res\n",
       "175    5.0      Keanu      Simasotchi  (1)SocialMedia"
      ]
     },
     "execution_count": 29,
     "metadata": {},
     "output_type": "execute_result"
    }
   ],
   "source": [
    "df_product_category_reduced.head(10)"
   ]
  },
  {
   "cell_type": "markdown",
   "metadata": {},
   "source": [
    "### Counting the occurrence of the individual quality categories "
   ]
  },
  {
   "cell_type": "code",
   "execution_count": 30,
   "metadata": {
    "ExecuteTime": {
     "end_time": "2023-06-16T17:45:15.017242Z",
     "start_time": "2023-06-16T17:45:15.004244Z"
    }
   },
   "outputs": [
    {
     "name": "stdout",
     "output_type": "stream",
     "text": [
      "PRODUCTS_1\n",
      "(1)High-Res                                                                                         258\n",
      "(1)High-Res;(1)Freedownloadwithwatermark                                                              8\n",
      "(1)High-Res;(1)Singularuseforpublicationwithnumberofcopiesbelow5'000                                  1\n",
      "(1)Multipleuseforfiveyears                                                                            2\n",
      "(1)Multipleuseforoneyear                                                                              1\n",
      "(1)OnlineAd(oneendproductforoneyear)                                                                  1\n",
      "(1)Singularuse(noarchive)                                                                            11\n",
      "(1)Singularuseforpublicationwithnumberofcopiesbelow5'000                                              8\n",
      "(1)Singularuseforpublicationwithnumberofcopiesbetwenn5'000-99'999                                     6\n",
      "(1)Singularuseforpublicationwithnumberofcopiesmorethan100'000                                         1\n",
      "(1)SocialMedia                                                                                     1792\n",
      "(1)SocialMedia/Web(multipleuseforoneyear)                                                            12\n",
      "(1)SocialMedia/Web(singularuse)                                                                       2\n",
      "(1)SocialMedia;(1)Freedownloadwithwatermark                                                          41\n",
      "(1)SocialMedia;(1)High-Res                                                                            4\n",
      "(1)Web(singularuse,noarchive)                                                                         6\n",
      "(1)Web(singularuse,noarchive);(1)Singularuseforpublicationwithnumberofcopiesbetwenn5'000-99'999       1\n",
      "PRODUCTS                                                                                              4\n",
      "dtype: int64\n"
     ]
    }
   ],
   "source": [
    "count_each_qualityclass(df_product_category_reduced)"
   ]
  },
  {
   "cell_type": "markdown",
   "metadata": {},
   "source": [
    "# Present information"
   ]
  },
  {
   "cell_type": "markdown",
   "metadata": {},
   "source": [
    "In diesem Schritt steht die Kommunikation der gewonnenen Informationen aus Schritt 3 im Fokus. Es geht darum, die richtigen Informationen im passenden Format für eine spezifische Zielgruppe zu übermitteln. Die Art und Weise der Kommunikation spielt eine entscheidende Rolle, um sicherzustellen, dass die Informationen verständlich und ansprechend präsentiert werden ​(Marr, 2020)​. "
   ]
  },
  {
   "cell_type": "markdown",
   "metadata": {},
   "source": [
    "## Umsatz pro Mailadresse"
   ]
  },
  {
   "cell_type": "code",
   "execution_count": 31,
   "metadata": {
    "ExecuteTime": {
     "end_time": "2023-06-16T17:45:15.048242Z",
     "start_time": "2023-06-16T17:45:15.021243Z"
    },
    "scrolled": true
   },
   "outputs": [
    {
     "data": {
      "text/html": [
       "<div>\n",
       "<style scoped>\n",
       "    .dataframe tbody tr th:only-of-type {\n",
       "        vertical-align: middle;\n",
       "    }\n",
       "\n",
       "    .dataframe tbody tr th {\n",
       "        vertical-align: top;\n",
       "    }\n",
       "\n",
       "    .dataframe thead th {\n",
       "        text-align: right;\n",
       "    }\n",
       "</style>\n",
       "<table border=\"1\" class=\"dataframe\">\n",
       "  <thead>\n",
       "    <tr style=\"text-align: right;\">\n",
       "      <th></th>\n",
       "      <th>Email</th>\n",
       "      <th>PaymentAmount</th>\n",
       "    </tr>\n",
       "  </thead>\n",
       "  <tbody>\n",
       "    <tr>\n",
       "      <th>212</th>\n",
       "      <td>gabriel.burger@reladeals.ch</td>\n",
       "      <td>875.0</td>\n",
       "    </tr>\n",
       "    <tr>\n",
       "      <th>402</th>\n",
       "      <td>office@compliag.ch</td>\n",
       "      <td>525.0</td>\n",
       "    </tr>\n",
       "    <tr>\n",
       "      <th>442</th>\n",
       "      <td>rick@eblcom.ch</td>\n",
       "      <td>463.0</td>\n",
       "    </tr>\n",
       "    <tr>\n",
       "      <th>154</th>\n",
       "      <td>david.spichiger@bluewin.ch</td>\n",
       "      <td>400.0</td>\n",
       "    </tr>\n",
       "    <tr>\n",
       "      <th>92</th>\n",
       "      <td>bettina.deillon@relevanz.legal</td>\n",
       "      <td>325.0</td>\n",
       "    </tr>\n",
       "    <tr>\n",
       "      <th>88</th>\n",
       "      <td>beat.schweizer@tvmaur.ch</td>\n",
       "      <td>300.0</td>\n",
       "    </tr>\n",
       "    <tr>\n",
       "      <th>270</th>\n",
       "      <td>julia.rieger@altius.ag</td>\n",
       "      <td>300.0</td>\n",
       "    </tr>\n",
       "    <tr>\n",
       "      <th>441</th>\n",
       "      <td>reto_pfister@hotmail.com</td>\n",
       "      <td>252.0</td>\n",
       "    </tr>\n",
       "    <tr>\n",
       "      <th>432</th>\n",
       "      <td>rabea.grand@coop.ch</td>\n",
       "      <td>250.0</td>\n",
       "    </tr>\n",
       "    <tr>\n",
       "      <th>201</th>\n",
       "      <td>flavia.agustoni@gmail.com</td>\n",
       "      <td>220.0</td>\n",
       "    </tr>\n",
       "  </tbody>\n",
       "</table>\n",
       "</div>"
      ],
      "text/plain": [
       "                              Email  PaymentAmount\n",
       "212     gabriel.burger@reladeals.ch          875.0\n",
       "402              office@compliag.ch          525.0\n",
       "442                  rick@eblcom.ch          463.0\n",
       "154      david.spichiger@bluewin.ch          400.0\n",
       "92   bettina.deillon@relevanz.legal          325.0\n",
       "88         beat.schweizer@tvmaur.ch          300.0\n",
       "270          julia.rieger@altius.ag          300.0\n",
       "441        reto_pfister@hotmail.com          252.0\n",
       "432             rabea.grand@coop.ch          250.0\n",
       "201       flavia.agustoni@gmail.com          220.0"
      ]
     },
     "execution_count": 31,
     "metadata": {},
     "output_type": "execute_result"
    }
   ],
   "source": [
    "#Sort the dataframe in descending order by the PaymentAmount column and display the first 10 entries.\n",
    "data_byeMail = data_byeMail.sort_values(by='PaymentAmount', ascending=False)\n",
    "data_byeMail.head(10)"
   ]
  },
  {
   "cell_type": "markdown",
   "metadata": {},
   "source": [
    "Es zeiget sich, dass die Datenqualität, durch die nicht vorhanden Validierung der Accountdaten nicht die Qualität aufweist, das eine Auswertung genügt, daher wurden verschiedene Auswertung durchgeführt um verschiedene Kriterien zu berücksichtigen. \n",
    "\n",
    " \n",
    "\n",
    "Abschliessen kann festgehalten werden, dass die Auswertung auf Basis der Mailadresse als plausibelste Variante ausgewiesen werden kann, da der Download Link zum Produkt/Bildern via Mail dem Kunden zugestellt wird. "
   ]
  },
  {
   "cell_type": "markdown",
   "metadata": {},
   "source": [
    "## Umsatz gegliedert nach Produktkategorie"
   ]
  },
  {
   "cell_type": "code",
   "execution_count": 32,
   "metadata": {
    "ExecuteTime": {
     "end_time": "2023-06-16T17:45:15.330232Z",
     "start_time": "2023-06-16T17:45:15.051242Z"
    },
    "scrolled": false
   },
   "outputs": [
    {
     "data": {
      "image/png": "[encoded data removed]",
      "text/plain": [
       "<Figure size 432x288 with 1 Axes>"
      ]
     },
     "metadata": {
      "needs_background": "light"
     },
     "output_type": "display_data"
    }
   ],
   "source": [
    "plot_sum_each_class(df_products_reduced)"
   ]
  },
  {
   "cell_type": "markdown",
   "metadata": {},
   "source": [
    "Der Totale Umsatz von 18'067 CHF im Jahr 2022 gliedert sich wie folgt: \n",
    "\n",
    "Private 12'487 CHF was 69 Prozent vom Jahresumsatz entspricht \n",
    "\n",
    "Business 2'700 CHF was 15 Prozent vom Jahresumsatz entspricht \n",
    "\n",
    "Media 1'840 CHF was 10 Prozent vom Jahresumsatz entspricht \n",
    "\n",
    "Vereine 1'040 CHF was 6 Prozent vom Jahresumsatz entspricht "
   ]
  },
  {
   "cell_type": "markdown",
   "metadata": {},
   "source": [
    "### Media"
   ]
  },
  {
   "cell_type": "code",
   "execution_count": 33,
   "metadata": {
    "ExecuteTime": {
     "end_time": "2023-06-16T17:45:15.362230Z",
     "start_time": "2023-06-16T17:45:15.332233Z"
    },
    "scrolled": false
   },
   "outputs": [
    {
     "data": {
      "text/markdown": [
       "**Kategorie:**(1)media"
      ],
      "text/plain": [
       "<IPython.core.display.Markdown object>"
      ]
     },
     "metadata": {},
     "output_type": "display_data"
    },
    {
     "name": "stdout",
     "output_type": "stream",
     "text": [
      "---------------------------------\n",
      "   First Name   Last Name  Price\n",
      "8       Rabea       Grand  250.0\n",
      "9        Reto     Pfister  240.0\n",
      "0        Beat   Schweizer  200.0\n",
      "5      Oliver       Meile  170.0\n",
      "7    Patricia      Morand  120.0\n",
      "1     Christa     Brügger  120.0\n",
      "11      Ruedi      Gubser  120.0\n",
      "14      Sélim  Biedermann  120.0\n",
      "16       hans      koller  100.0\n",
      "3       Fabio      Kobelt   50.0\n",
      "---------------------------------\n",
      "Summe aller Verkäufe der Kategorie(1)media: 1840.0  CHF\n"
     ]
    }
   ],
   "source": [
    "display_productcategory_info(\"(1)media\")"
   ]
  },
  {
   "cell_type": "markdown",
   "metadata": {},
   "source": [
    "Eine Möglichkeit die Medienerträge zu erhöhen ist Herausforderungen zu eliminieren. Aktuell können Medienkunden nur (wie alle anderen Kunden) via Kreditkarte bezahlen, was ein Grund sein könnte die Bilder nicht bei athletix.ch zu beziehen. Da im System eine Mailadresse für jeden Kunden erfasst ist könnte man die Kunden via Mail kontaktieren und Ihnen einen Kauf auf Rechnung anbieten. Dabei ist aber darauf zu achten, ob der Kunden beim Erstellen des Accounts die Zustimmung erteilt hat, dass er via Mail kontaktiert werden darf. "
   ]
  },
  {
   "cell_type": "markdown",
   "metadata": {},
   "source": [
    "### Private"
   ]
  },
  {
   "cell_type": "code",
   "execution_count": 34,
   "metadata": {
    "ExecuteTime": {
     "end_time": "2023-06-16T17:45:15.393229Z",
     "start_time": "2023-06-16T17:45:15.364230Z"
    }
   },
   "outputs": [
    {
     "data": {
      "text/markdown": [
       "**Kategorie:**(1)private"
      ],
      "text/plain": [
       "<IPython.core.display.Markdown object>"
      ]
     },
     "metadata": {},
     "output_type": "display_data"
    },
    {
     "name": "stdout",
     "output_type": "stream",
     "text": [
      "---------------------------------\n",
      "       First Name  Last Name  Price\n",
      "450       Schmutz    Patrick  463.0\n",
      "57        Bettina    Deillon  290.0\n",
      "25        Andreas     Gerber  222.0\n",
      "164       Florian      Ryser  192.0\n",
      "191          Hans       Frey  192.0\n",
      "212  Jean-Charles  Philipona  140.0\n",
      "410       Philipp    Handler  140.0\n",
      "176     Geraldine       Frey  135.0\n",
      "286          Loïc      Gasch  135.0\n",
      "463        Simone   Collioud  130.0\n",
      "---------------------------------\n",
      "Summe aller Verkäufe der Kategorie(1)private: 12487.0  CHF\n"
     ]
    }
   ],
   "source": [
    "display_productcategory_info(\"(1)private\")"
   ]
  },
  {
   "cell_type": "markdown",
   "metadata": {},
   "source": [
    "Es wäre angebracht zu prüfen, ob die Top Kunden die Bilder wirklich nur für private Zwecke benützen oder ob eventuell eine Lizenzverletzung vorliegt und die Bilder zum günstigen Privat Tarif gekauft wurden. "
   ]
  },
  {
   "cell_type": "markdown",
   "metadata": {},
   "source": [
    "#### Private über 120 CHF"
   ]
  },
  {
   "cell_type": "code",
   "execution_count": 35,
   "metadata": {
    "ExecuteTime": {
     "end_time": "2023-06-16T17:45:15.424228Z",
     "start_time": "2023-06-16T17:45:15.396230Z"
    },
    "scrolled": true
   },
   "outputs": [
    {
     "data": {
      "text/markdown": [
       "**Kunden welche Bilder im Wert von über 120 CHF bezogen haben:**"
      ],
      "text/plain": [
       "<IPython.core.display.Markdown object>"
      ]
     },
     "metadata": {},
     "output_type": "display_data"
    },
    {
     "name": "stdout",
     "output_type": "stream",
     "text": [
      "---------------------------------\n",
      "       First Name    Last Name  Price\n",
      "450       Schmutz      Patrick  463.0\n",
      "57        Bettina      Deillon  290.0\n",
      "25        Andreas       Gerber  222.0\n",
      "164       Florian        Ryser  192.0\n",
      "191          Hans         Frey  192.0\n",
      "212  Jean-Charles    Philipona  140.0\n",
      "410       Philipp      Handler  140.0\n",
      "176     Geraldine         Frey  135.0\n",
      "286          Loïc        Gasch  135.0\n",
      "463        Simone     Collioud  130.0\n",
      "348       Michèle       Ritter  130.0\n",
      "427         Ricky  Petrucciani  125.0\n",
      "---------------------------------\n",
      "Von total 529 Kunden, haben 12 Bilder im Wert von über 120 Chf bezogen.\n",
      "Somit haben 2.268431001890359 % einen Bezugswert von mehr als 120 Chf.\n"
     ]
    }
   ],
   "source": [
    "get_infos_private_above_120()"
   ]
  },
  {
   "cell_type": "markdown",
   "metadata": {},
   "source": [
    "Der Preis mit 120 CHF ist gut gewählt von 529 zahlenden Kunden haben nur 12 Personen oder 2.2 Prozent der Kunden für mehr als 120 CHF Bilder erworben. Es gilt aber noch zu prüfen, ob diese 12 Kunden auch die korrekte Lizenzierung erworben haben. "
   ]
  },
  {
   "cell_type": "markdown",
   "metadata": {},
   "source": [
    "#### Private Produkte"
   ]
  },
  {
   "cell_type": "code",
   "execution_count": 36,
   "metadata": {
    "ExecuteTime": {
     "end_time": "2023-06-16T17:45:15.584223Z",
     "start_time": "2023-06-16T17:45:15.429228Z"
    },
    "scrolled": true
   },
   "outputs": [
    {
     "data": {
      "image/png": "[encoded data removed]",
      "text/plain": [
       "<Figure size 432x288 with 1 Axes>"
      ]
     },
     "metadata": {
      "needs_background": "light"
     },
     "output_type": "display_data"
    }
   ],
   "source": [
    "plot_sum_each_qualityclass(df_product_category_reduced)"
   ]
  },
  {
   "cell_type": "code",
   "execution_count": 37,
   "metadata": {
    "ExecuteTime": {
     "end_time": "2023-06-16T17:45:15.600223Z",
     "start_time": "2023-06-16T17:45:15.586223Z"
    }
   },
   "outputs": [
    {
     "data": {
      "text/markdown": [
       "**Kategorie:**(1)High-Res"
      ],
      "text/plain": [
       "<IPython.core.display.Markdown object>"
      ]
     },
     "metadata": {},
     "output_type": "display_data"
    },
    {
     "name": "stdout",
     "output_type": "stream",
     "text": [
      "---------------------------------\n",
      "Summe aller Verkäufe der Qualitäts-Kategorie (1)High-Res: 3096.0  CHF\n"
     ]
    }
   ],
   "source": [
    "get_price_sum_info_quality_category(df_product_category_reduced, \"(1)High-Res\")"
   ]
  },
  {
   "cell_type": "code",
   "execution_count": 38,
   "metadata": {
    "ExecuteTime": {
     "end_time": "2023-06-16T17:45:15.616221Z",
     "start_time": "2023-06-16T17:45:15.602223Z"
    },
    "scrolled": true
   },
   "outputs": [
    {
     "data": {
      "text/markdown": [
       "**Kategorie:**(1)SocialMedia"
      ],
      "text/plain": [
       "<IPython.core.display.Markdown object>"
      ]
     },
     "metadata": {},
     "output_type": "display_data"
    },
    {
     "name": "stdout",
     "output_type": "stream",
     "text": [
      "---------------------------------\n",
      "Summe aller Verkäufe der Qualitäts-Kategorie (1)SocialMedia: 8960.0  CHF\n"
     ]
    }
   ],
   "source": [
    "get_price_sum_info_quality_category(df_product_category_reduced, \"(1)SocialMedia\")"
   ]
  },
  {
   "cell_type": "markdown",
   "metadata": {},
   "source": [
    "athletix.ch bietet für zahlende Privatkunden zwei unterschiedliche Produkte an, Social Media und High-Res. Im Jahr 2022 erzielt man mit High Res einen Umsatz von 3096 CHF und mit Social Media 8960 CHF. \n",
    "\n",
    "Zukünftig sollte man darauf achten, dass sich die Bilder die hochgeladen werden im Hochformat verwenden lassen, da im Social Media Bereich mehrheitlich Bilder im Hochformat verwendet werden."
   ]
  },
  {
   "cell_type": "markdown",
   "metadata": {},
   "source": [
    "### Business"
   ]
  },
  {
   "cell_type": "code",
   "execution_count": 39,
   "metadata": {
    "ExecuteTime": {
     "end_time": "2023-06-16T17:45:15.646220Z",
     "start_time": "2023-06-16T17:45:15.618221Z"
    }
   },
   "outputs": [
    {
     "data": {
      "text/markdown": [
       "**Kategorie:**(1)business"
      ],
      "text/plain": [
       "<IPython.core.display.Markdown object>"
      ]
     },
     "metadata": {},
     "output_type": "display_data"
    },
    {
     "name": "stdout",
     "output_type": "stream",
     "text": [
      "---------------------------------\n",
      "  First Name        Last Name   Price\n",
      "1    Gabriel           Burger  1050.0\n",
      "6     Thomas             Hahn   525.0\n",
      "4      Julia           Rieger   300.0\n",
      "2      Heinz  Mueller-Schnegg   200.0\n",
      "0       Erik            Hefti   175.0\n",
      "5     Nicole            Thier   175.0\n",
      "7      Yunus            Akgül   175.0\n",
      "3      Irina            Bieli   100.0\n",
      "---------------------------------\n",
      "Summe aller Verkäufe der Kategorie(1)business: 2700.0  CHF\n"
     ]
    }
   ],
   "source": [
    "display_productcategory_info(\"(1)business\")"
   ]
  },
  {
   "cell_type": "markdown",
   "metadata": {},
   "source": [
    "Mit einer Detailprüfung was für Bilder (von welchem Athleten / von welcher Athletin) kann in Zukunft sichergestellt werden, dass immer passende Bilder im Angebot vorhanden sind. "
   ]
  },
  {
   "cell_type": "markdown",
   "metadata": {},
   "source": [
    "### Vereine"
   ]
  },
  {
   "cell_type": "code",
   "execution_count": 40,
   "metadata": {
    "ExecuteTime": {
     "end_time": "2023-06-16T17:45:15.677221Z",
     "start_time": "2023-06-16T17:45:15.648220Z"
    }
   },
   "outputs": [
    {
     "data": {
      "text/markdown": [
       "**Kategorie:**(1)vereine"
      ],
      "text/plain": [
       "<IPython.core.display.Markdown object>"
      ]
     },
     "metadata": {},
     "output_type": "display_data"
    },
    {
     "name": "stdout",
     "output_type": "stream",
     "text": [
      "---------------------------------\n",
      "  First Name  Last Name  Price\n",
      "2      David  Spichiger  400.0\n",
      "4     Flavia   Agustoni  200.0\n",
      "0       Beat  Schweizer  100.0\n",
      "7     Philip    Salathe  100.0\n",
      "5   Jean-Luc     Robert   90.0\n",
      "1     Chrigi       Gmür   50.0\n",
      "3      Delia  Durgauhee   50.0\n",
      "6    Pascale       Frei   50.0\n",
      "---------------------------------\n",
      "Summe aller Verkäufe der Kategorie(1)vereine: 1040.0  CHF\n"
     ]
    }
   ],
   "source": [
    "display_productcategory_info(\"(1)vereine\")"
   ]
  },
  {
   "cell_type": "markdown",
   "metadata": {},
   "source": [
    "Potenzial besteht bei den Vereinen, mit einer Anpassung der Preise für Vereine kann hier möglicherweise eine Verbesserung erzielt werden. "
   ]
  },
  {
   "cell_type": "markdown",
   "metadata": {},
   "source": [
    "# Fazit"
   ]
  },
  {
   "cell_type": "markdown",
   "metadata": {},
   "source": [
    "Der Ausstieg eines Teammitglieds war ein kritischer Punkt in diesem Projekt. Die zuvor festgelegten Ergebnisse mussten nun von einer einzigen Person erarbeitet werden. Die größte Herausforderung bestand darin, das erforderliche Fachwissen für die Webshop-Lösung und Jupiter aufzubauen. \n",
    "\n",
    "Die Erarbeitung der Ziele war mit viel Aufwand verbunden, und stellt sich im Nachhinein als Kerninhalt dieser Arbeit heraus. Für den Auftraggeber konnte mit dieser fundierten Zielerarbeitung sichergestellt werden, dass die passenden Informationen zur Verfügung gestellt werden um zukünftig strategische Entscheidungen auf Basis dieser Auswertung zu treffen. \n",
    "\n",
    "Das Endprodukt eine Massgeschneiderte Auswertung in enger Zusammenarbeit mit athletix.ch das sämtliche Bedürfnisse vom Auftraggeber optimal abdeckt und die geforderten Daten zur Verfügung stellt wurden vom Auftraggeber mit grossem Wohlwollen zur Kenntnis genommen und der grosse Mehrwert für athletix.ch wurde verdankt. \n",
    "\n",
    "Dank dieser maßgeschneiderten Auswertung verfügt athletix.ch nun über eine fundierte Grundlage für zukünftige strategische Entscheidungen. Zudem kann die Auswertung jederzeit mit neuen Daten durchgeführt und danach mit den vorhandenen Auswertungen verglichen werden, um Veränderungen und Trends zu erkennen. "
   ]
  },
  {
   "cell_type": "markdown",
   "metadata": {},
   "source": [
    "# Quellenverzeichnis"
   ]
  },
  {
   "cell_type": "markdown",
   "metadata": {},
   "source": [
    "athletix.ch. (kein Datum). About Us. Abgerufen am 13. Mai 2023 von https://www.athletix.ch/info/about-us/ \n",
    "\n",
    "IMAGO. (kein Datum). Partner. Abgerufen am 15. Mai 2023 von https://www.imago-images.de/partner \n",
    "\n",
    "Marr, B. (2020). From Data to Decisions A FIVE-STEP APPROACH TO DATA-DRIVEN DECISION-MAKING. CPA Canada. \n",
    "\n",
    "Schneider, J. (15. Februar 2022). Getty Details its Remote 2022 Winter Olympics Photo Editing System. Abgerufen am 13. Mai 2023 von https://petapixel.com/2022/02/15/getty-details-its-remote-2022-winter-olympics-photo-editing-team/ \n",
    "\n",
    "Zhang, M. (8. August 2016). Getty Olympic Photos are Shot, Edited, and Shared in 120 Seconds. Abgerufen am 13. Mai 2023 von https://petapixel.com/2016/08/08/getty-olympic-photos-shot-edited-shared-120-seconds/ "
   ]
  }
 ],
 "metadata": {
  "kernelspec": {
   "display_name": "Python 3",
   "language": "python",
   "name": "python3"
  },
  "language_info": {
   "codemirror_mode": {
    "name": "ipython",
    "version": 3
   },
   "file_extension": ".py",
   "mimetype": "text/x-python",
   "name": "python",
   "nbconvert_exporter": "python",
   "pygments_lexer": "ipython3",
   "version": "3.8.5"
  },
  "toc": {
   "base_numbering": 1,
   "nav_menu": {},
   "number_sections": true,
   "sideBar": true,
   "skip_h1_title": false,
   "title_cell": "Table of Contents",
   "title_sidebar": "Contents",
   "toc_cell": false,
   "toc_position": {
    "height": "calc(100% - 180px)",
    "left": "10px",
    "top": "150px",
    "width": "300px"
   },
   "toc_section_display": true,
   "toc_window_display": true
  }
 },
 "nbformat": 4,
 "nbformat_minor": 4
}
